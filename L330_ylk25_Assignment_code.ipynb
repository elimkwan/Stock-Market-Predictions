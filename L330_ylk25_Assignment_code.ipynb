{
 "cells": [
  {
   "cell_type": "code",
   "execution_count": 1,
   "metadata": {},
   "outputs": [],
   "source": [
    "import os\n",
    "import pandas as pd\n",
    "import numpy as np\n",
    "import matplotlib.pyplot as plt\n",
    "from sklearn.pipeline import Pipeline, FeatureUnion\n",
    "from sklearn.preprocessing import StandardScaler, MinMaxScaler\n",
    "from sklearn.preprocessing import LabelBinarizer, LabelEncoder, OneHotEncoder\n",
    "import tensorflow as tf\n",
    "from functools import partial\n",
    "from tensorflow import keras\n",
    "from sklearn.linear_model import SGDClassifier\n",
    "from sklearn.naive_bayes import GaussianNB, MultinomialNB\n",
    "from sklearn.linear_model import LogisticRegression\n",
    "\n",
    "import sklearn.decomposition\n",
    "import sklearn.cross_decomposition\n",
    "import sklearn.manifold\n",
    "from tensorflow.keras.layers import Conv2D, MaxPooling2D, Dense, Flatten\n",
    "from sklearn.ensemble import RandomForestClassifier\n",
    "from sklearn.model_selection import train_test_split\n",
    "from tensorflow.keras.utils import plot_model\n",
    "import pydot\n",
    "\n",
    "from sklearn.ensemble import AdaBoostClassifier\n",
    "from sklearn.tree import DecisionTreeClassifier"
   ]
  },
  {
   "cell_type": "code",
   "execution_count": 2,
   "metadata": {},
   "outputs": [],
   "source": [
    "def load_data():\n",
    "    markets = []\n",
    "    path = [\"Processed_DJI.csv\",\"Processed_NASDAQ.csv\",\"Processed_NYSE.csv\",\"Processed_RUSSELL.csv\",\"Processed_S&P.csv\"]\n",
    "    for i in range(5):\n",
    "        csv_path = os.path.join(\"CNNpred/\", path[i])\n",
    "        markets.append(pd.read_csv(csv_path))\n",
    "    return markets\n"
   ]
  },
  {
   "cell_type": "code",
   "execution_count": 3,
   "metadata": {},
   "outputs": [],
   "source": [
    "class add_missing_attributes():\n",
    "    def __init__(self):\n",
    "        self = self\n",
    "    def fit(self, markets):\n",
    "        return self\n",
    "    def transform(self,markets):\n",
    "        a = markets[0].columns \n",
    "        b = markets[1].columns\n",
    "        c = markets[2].columns\n",
    "        d = markets[3].columns\n",
    "        e = markets[4].columns\n",
    "        unique_attributes = list(set().union(a,b,c,d,e))\n",
    "        new_markets = []\n",
    "        for index,m in enumerate(markets):\n",
    "            dataset_missing_attributes = set(unique_attributes) - set(m.columns)\n",
    "            dataset_complete = m.copy()\n",
    "            # print(dataset_missing_attributes)\n",
    "            for i in dataset_missing_attributes:\n",
    "                if(index != 0):\n",
    "                    dataset_complete[i] = new_markets[0][i]\n",
    "                else:\n",
    "                    dataset_complete[i] = markets[2][i]\n",
    "\n",
    "            new_markets.append(dataset_complete)\n",
    "        return new_markets"
   ]
  },
  {
   "cell_type": "code",
   "execution_count": 4,
   "metadata": {},
   "outputs": [],
   "source": [
    "class encode():\n",
    "    def __init__(self):\n",
    "        self = self\n",
    "    def fit(self):\n",
    "        return self      \n",
    "    def transform(self, markets):\n",
    "        new_markets = markets\n",
    "        encoder = LabelEncoder()\n",
    "        encoder_name = LabelEncoder()\n",
    "        prune_attr = ['EMA_20','EMA_50','EMA_200','ROC_5','ROC_10','ROC_15','mom2','mom3']\n",
    "        attr_fill_mean = ['EMA_10']\n",
    "        attributes_fillna_bfill = ['mom','mom1','ROC_20']\n",
    "        other_attr = ['Oil',\n",
    "         'Gold',\n",
    "         'GBP',\n",
    "         'JPY',\n",
    "         'CAD',\n",
    "         'CNY',\n",
    "         'AAPL',\n",
    "         'AMZN',\n",
    "         'GE',\n",
    "         'JNJ',\n",
    "         'JPM',\n",
    "         'MSFT',\n",
    "         'WFC',\n",
    "         'XOM',\n",
    "         'FCHI',\n",
    "         'FTSE',\n",
    "         'GDAXI',\n",
    "         'DJI',\n",
    "         'HSI',\n",
    "         'IXIC',\n",
    "         'SSEC',\n",
    "         'S&P',\n",
    "         'RUT',\n",
    "         'CTB3M',\n",
    "         'CTB6M',\n",
    "         'CTB1Y',\n",
    "         'CAC-F',\n",
    "         'DAX-F',\n",
    "         'FTSE-F',\n",
    "         'HSI-F',\n",
    "         'KOSPI-F',\n",
    "         'wheat-F',\n",
    "         'GSPC',\n",
    "         'NYSE']\n",
    "        \n",
    "        for i in range(5):\n",
    "            new_markets[i][\"Date\"] = encoder.fit_transform(markets[i][\"Date\"])\n",
    "            new_markets[i][\"Date\"] = encoder.fit_transform(markets[i][\"Date\"])\n",
    "            \n",
    "            new_markets[i][\"Volume\"] = markets[i]['Volume'].fillna(0)\n",
    "            for v in prune_attr:\n",
    "                new_markets[i].drop([v],axis= 1, inplace=True)\n",
    "            for v in attr_fill_mean:\n",
    "                new_markets[i][v] = markets[i][v].fillna(markets[i][v].mean())\n",
    "            for v in attributes_fillna_bfill:\n",
    "                new_markets[i][v] = markets[i][v].fillna(markets[i][v].mean())\n",
    "            for v in other_attr:\n",
    "                new_markets[i][v] = markets[i][v].interpolate()\n",
    "            \n",
    "            new_markets[i] = new_markets[i].dropna()\n",
    "        \n",
    "        r = pd.concat([new_markets[0],new_markets[1],new_markets[2],new_markets[3],new_markets[4]], axis=0)\n",
    "#         r[\"Name\"] = encoder_name.fit_transform(r[\"Name\"])\n",
    "        r = r.reset_index()\n",
    "        return r"
   ]
  },
  {
   "cell_type": "code",
   "execution_count": 5,
   "metadata": {},
   "outputs": [],
   "source": [
    "class encodeName():\n",
    "    def __init__(self):\n",
    "        self = self\n",
    "    def fit(self):\n",
    "        return self\n",
    "    def transform(self, data):\n",
    "        name = pd.DataFrame()\n",
    "        name['results'] = data['Name']\n",
    "\n",
    "        encoder = LabelBinarizer()\n",
    "        name_1hot = encoder.fit_transform(name['results'])\n",
    "        \n",
    "        m = []\n",
    "        for j in range(5):\n",
    "            m.append('Name-%d' % (j))\n",
    "        for i,elem in enumerate(m):\n",
    "            name[elem] = name_1hot[:,i]\n",
    "        name = name.drop(['results'], axis=1)\n",
    "        result = pd.concat([data,name], axis = 1)\n",
    "        return result"
   ]
  },
  {
   "cell_type": "code",
   "execution_count": 7,
   "metadata": {},
   "outputs": [],
   "source": [
    "class scaler():\n",
    "    def __init__(self):\n",
    "        self = self\n",
    "    def fit(self):\n",
    "        return self\n",
    "    def transform(self, data):\n",
    "        \n",
    "        scaled_features = data.copy()\n",
    "        attributes = list(data.columns)\n",
    "        attributes.remove(\"Date\")\n",
    "        attributes.remove(\"Name\")\n",
    "#         attributes.remove(\"Close\")\n",
    "        attributes.remove(\"index\")\n",
    "        features = scaled_features[attributes]\n",
    "        scaler = StandardScaler().fit(features.values)\n",
    "        features = scaler.transform(features.values)\n",
    "        new_data = pd.DataFrame(data = features, columns=attributes)\n",
    "        \n",
    "        new_data[\"Date\"] = data[\"Date\"]\n",
    "        new_data[\"Name\"] = data[\"Name\"]\n",
    "#         new_data[\"Close\"] = data[\"Close\"]\n",
    "\n",
    "        return new_data.dropna()"
   ]
  },
  {
   "cell_type": "code",
   "execution_count": 8,
   "metadata": {},
   "outputs": [],
   "source": [
    "data_prep_pipeline = Pipeline([\n",
    "        ('add_missing_attributes', add_missing_attributes()),\n",
    "        ('encode', encode()),\n",
    "#         ('fill_missing_val', fill_missing_val()),\n",
    "        ('scaler', scaler()),\n",
    "        ('encodeName', encodeName()),\n",
    "    ])\n",
    "\n",
    "markets = load_data()\n",
    "m_pd = data_prep_pipeline.transform(markets)"
   ]
  },
  {
   "cell_type": "code",
   "execution_count": 9,
   "metadata": {},
   "outputs": [],
   "source": [
    "lag = 60\n",
    "m_labels_pd = m_pd.loc[\n",
    "    ((m_pd['Date'] > (lag)) &\n",
    "    (m_pd['Date'] < (m_pd['Date'].max())))\n",
    "]"
   ]
  },
  {
   "cell_type": "code",
   "execution_count": 10,
   "metadata": {},
   "outputs": [],
   "source": [
    "train_label, test_label_temp = train_test_split(m_labels_pd, test_size=0.3, random_state=10, stratify = m_labels_pd['Name'])\n",
    "val_label, test_label = train_test_split(test_label_temp, test_size=0.5, random_state=10, stratify= test_label_temp['Name'])"
   ]
  },
  {
   "cell_type": "code",
   "execution_count": 11,
   "metadata": {},
   "outputs": [],
   "source": [
    "def prepareSupervisedData(index, days, data, targetm):\n",
    "    new_data = np.empty((index.shape[0], days , data.shape[1]))\n",
    "    label = np.empty((index.shape[0]))\n",
    "    \n",
    "    for i,(_, row) in enumerate(index.iterrows()):\n",
    "        date = row['Date']\n",
    "#         name = row['Name']\n",
    "        name0 = row['Name-0']\n",
    "        name1 = row['Name-1']\n",
    "        name2 = row['Name-2']\n",
    "        name3 = row['Name-3']\n",
    "        name4 = row['Name-4']\n",
    "        \n",
    "        \n",
    "        row_input = data.loc[\n",
    "            (data['Date'] <= date) & \n",
    "            (data['Date'] > date - days) &\n",
    "            (data['Name-0'] == name0) &\n",
    "            (data['Name-1'] == name1) &\n",
    "            (data['Name-2'] == name2) &\n",
    "            (data['Name-3'] == name3) &\n",
    "            (data['Name-4'] == name4)\n",
    "        ]\n",
    "        new_data[i] = row_input\n",
    "        \n",
    "        targetm_char = 'Name-'+str(targetm)\n",
    "        close = data.loc[((data['Date'] == date) & (data[targetm_char] == 1)), 'Close'].item()\n",
    "        next_close = data.loc[((data['Date'] == date + 1) & (data[targetm_char] == 1)), 'Close'].item()\n",
    "        label[i] = np.sign(next_close - close)\n",
    "        if (next_close - close) < 0:\n",
    "            label[i] = 0\n",
    "        elif (next_close - close) > 0:\n",
    "            label[i] = 1\n",
    "        elif (next_close == close):\n",
    "            label[i] = 0\n",
    "\n",
    "    return new_data[:,:,:,np.newaxis], label\n",
    "\n",
    "lag = 60\n",
    "m_pd.drop(['Name'],axis=1,inplace=True)\n",
    "x_train, y_train = prepareSupervisedData(train_label, lag, m_pd, 4)\n",
    "x_val, y_val = prepareSupervisedData(val_label, lag, m_pd, 4)\n",
    "x_test, y_test = prepareSupervisedData(test_label, lag, m_pd, 4)"
   ]
  },
  {
   "cell_type": "markdown",
   "metadata": {},
   "source": [
    "## Model: 2D CNN + ANN"
   ]
  },
  {
   "cell_type": "code",
   "execution_count": 12,
   "metadata": {},
   "outputs": [],
   "source": [
    "np.random.seed(42)\n",
    "tf.random.set_seed(42)\n",
    "from tensorflow.keras.layers import Conv2D, MaxPooling2D, Dense, Flatten, Dropout, Reshape\n",
    "\n",
    "\n",
    "# checkpoint_path = \"/content/gdrive/MyDrive/Trained_Model/training_1/cp.ckpt\"\n",
    "checkpoint_path = \"Trained_Model/training_1/cp.ckpt\"\n",
    "checkpoint_dir = os.path.dirname(checkpoint_path)\n",
    "\n",
    "# Create a callback that saves the model's weights\n",
    "cp_callback = tf.keras.callbacks.ModelCheckpoint(filepath=checkpoint_path,\n",
    "                                                 save_weights_only=True,\n",
    "                                                 verbose=1)\n",
    "\n",
    "model = keras.models.Sequential([\n",
    "    Conv2D(filters = 40, kernel_size = (1,82), input_shape=(60, 82, 1)),\n",
    "    Reshape((60,40,1)),\n",
    "    Dropout(0.2),\n",
    "    Conv2D(filters = 8, kernel_size = (1,40), input_shape=(60, 82, 1)),\n",
    "    Reshape((60,8,1)),\n",
    "    Conv2D(filters = 1, kernel_size = (3,1)),\n",
    "    MaxPooling2D(pool_size=(2,1)),\n",
    "    Conv2D(filters = 1, kernel_size = (3,1)),\n",
    "    MaxPooling2D(pool_size=(2,1)),\n",
    "    Flatten(),\n",
    "    Dense(units=104, activation='relu'),\n",
    "    Dropout(0.2),\n",
    "    Dense(units=1, activation='sigmoid'),\n",
    "])"
   ]
  },
  {
   "cell_type": "code",
   "execution_count": 13,
   "metadata": {},
   "outputs": [
    {
     "data": {
      "image/png": "[encoded data removed]",
      "text/plain": [
       "<IPython.core.display.Image object>"
      ]
     },
     "execution_count": 13,
     "metadata": {},
     "output_type": "execute_result"
    }
   ],
   "source": [
    "plot_model(model, to_file='model_plot.png', show_shapes=True, show_layer_names=True)"
   ]
  },
  {
   "cell_type": "code",
   "execution_count": 14,
   "metadata": {},
   "outputs": [
    {
     "name": "stdout",
     "output_type": "stream",
     "text": [
      "Model: \"sequential\"\n",
      "_________________________________________________________________\n",
      "Layer (type)                 Output Shape              Param #   \n",
      "=================================================================\n",
      "conv2d (Conv2D)              (None, 60, 1, 40)         3320      \n",
      "_________________________________________________________________\n",
      "reshape (Reshape)            (None, 60, 40, 1)         0         \n",
      "_________________________________________________________________\n",
      "dropout (Dropout)            (None, 60, 40, 1)         0         \n",
      "_________________________________________________________________\n",
      "conv2d_1 (Conv2D)            (None, 60, 1, 8)          328       \n",
      "_________________________________________________________________\n",
      "reshape_1 (Reshape)          (None, 60, 8, 1)          0         \n",
      "_________________________________________________________________\n",
      "conv2d_2 (Conv2D)            (None, 58, 8, 1)          4         \n",
      "_________________________________________________________________\n",
      "max_pooling2d (MaxPooling2D) (None, 29, 8, 1)          0         \n",
      "_________________________________________________________________\n",
      "conv2d_3 (Conv2D)            (None, 27, 8, 1)          4         \n",
      "_________________________________________________________________\n",
      "max_pooling2d_1 (MaxPooling2 (None, 13, 8, 1)          0         \n",
      "_________________________________________________________________\n",
      "flatten (Flatten)            (None, 104)               0         \n",
      "_________________________________________________________________\n",
      "dense (Dense)                (None, 104)               10920     \n",
      "_________________________________________________________________\n",
      "dropout_1 (Dropout)          (None, 104)               0         \n",
      "_________________________________________________________________\n",
      "dense_1 (Dense)              (None, 1)                 105       \n",
      "=================================================================\n",
      "Total params: 14,681\n",
      "Trainable params: 14,681\n",
      "Non-trainable params: 0\n",
      "_________________________________________________________________\n"
     ]
    }
   ],
   "source": [
    "model.summary()"
   ]
  },
  {
   "cell_type": "code",
   "execution_count": 15,
   "metadata": {
    "scrolled": true
   },
   "outputs": [
    {
     "name": "stdout",
     "output_type": "stream",
     "text": [
      "Epoch 1/100\n",
      "103/106 [============================>.] - ETA: 0s - loss: 0.8150 - accuracy: 0.5121\n",
      "Epoch 00001: saving model to Trained_Model/training_1/cp.ckpt\n",
      "106/106 [==============================] - 1s 11ms/step - loss: 0.8126 - accuracy: 0.5130 - val_loss: 0.6896 - val_accuracy: 0.5461\n",
      "Epoch 2/100\n",
      "105/106 [============================>.] - ETA: 0s - loss: 0.6990 - accuracy: 0.5171\n",
      "Epoch 00002: saving model to Trained_Model/training_1/cp.ckpt\n",
      "106/106 [==============================] - 1s 9ms/step - loss: 0.6990 - accuracy: 0.5173 - val_loss: 0.6953 - val_accuracy: 0.4920\n",
      "Epoch 3/100\n",
      "101/106 [===========================>..] - ETA: 0s - loss: 0.6952 - accuracy: 0.5350\n",
      "Epoch 00003: saving model to Trained_Model/training_1/cp.ckpt\n",
      "106/106 [==============================] - 1s 10ms/step - loss: 0.6951 - accuracy: 0.5346 - val_loss: 0.6926 - val_accuracy: 0.5170\n",
      "Epoch 4/100\n",
      "102/106 [===========================>..] - ETA: 0s - loss: 0.6936 - accuracy: 0.5283\n",
      "Epoch 00004: saving model to Trained_Model/training_1/cp.ckpt\n",
      "106/106 [==============================] - 1s 11ms/step - loss: 0.6932 - accuracy: 0.5295 - val_loss: 0.6858 - val_accuracy: 0.5656\n",
      "Epoch 5/100\n",
      "104/106 [============================>.] - ETA: 0s - loss: 0.6896 - accuracy: 0.5305\n",
      "Epoch 00005: saving model to Trained_Model/training_1/cp.ckpt\n",
      "106/106 [==============================] - 1s 11ms/step - loss: 0.6896 - accuracy: 0.5308 - val_loss: 0.6826 - val_accuracy: 0.5704\n",
      "Epoch 6/100\n",
      "101/106 [===========================>..] - ETA: 0s - loss: 0.6869 - accuracy: 0.5427\n",
      "Epoch 00006: saving model to Trained_Model/training_1/cp.ckpt\n",
      "106/106 [==============================] - 1s 10ms/step - loss: 0.6869 - accuracy: 0.5417 - val_loss: 0.6805 - val_accuracy: 0.5718\n",
      "Epoch 7/100\n",
      "104/106 [============================>.] - ETA: 0s - loss: 0.6815 - accuracy: 0.5508\n",
      "Epoch 00007: saving model to Trained_Model/training_1/cp.ckpt\n",
      "106/106 [==============================] - 1s 12ms/step - loss: 0.6816 - accuracy: 0.5500 - val_loss: 0.6779 - val_accuracy: 0.5802\n",
      "Epoch 8/100\n",
      "101/106 [===========================>..] - ETA: 0s - loss: 0.6788 - accuracy: 0.5551\n",
      "Epoch 00008: saving model to Trained_Model/training_1/cp.ckpt\n",
      "106/106 [==============================] - 1s 10ms/step - loss: 0.6783 - accuracy: 0.5569 - val_loss: 0.6758 - val_accuracy: 0.5684\n",
      "Epoch 9/100\n",
      "102/106 [===========================>..] - ETA: 0s - loss: 0.6719 - accuracy: 0.5722\n",
      "Epoch 00009: saving model to Trained_Model/training_1/cp.ckpt\n",
      "106/106 [==============================] - 1s 11ms/step - loss: 0.6724 - accuracy: 0.5704 - val_loss: 0.6763 - val_accuracy: 0.5850\n",
      "Epoch 10/100\n",
      "105/106 [============================>.] - ETA: 0s - loss: 0.6667 - accuracy: 0.5807\n",
      "Epoch 00010: saving model to Trained_Model/training_1/cp.ckpt\n",
      "106/106 [==============================] - 1s 9ms/step - loss: 0.6665 - accuracy: 0.5809 - val_loss: 0.6760 - val_accuracy: 0.5788\n",
      "Epoch 11/100\n",
      " 99/106 [===========================>..] - ETA: 0s - loss: 0.6652 - accuracy: 0.5791\n",
      "Epoch 00011: saving model to Trained_Model/training_1/cp.ckpt\n",
      "106/106 [==============================] - 1s 9ms/step - loss: 0.6646 - accuracy: 0.5806 - val_loss: 0.6664 - val_accuracy: 0.5926\n",
      "Epoch 12/100\n",
      "103/106 [============================>.] - ETA: 0s - loss: 0.6576 - accuracy: 0.5918\n",
      "Epoch 00012: saving model to Trained_Model/training_1/cp.ckpt\n",
      "106/106 [==============================] - 1s 10ms/step - loss: 0.6569 - accuracy: 0.5931 - val_loss: 0.6733 - val_accuracy: 0.5920\n",
      "Epoch 13/100\n",
      "101/106 [===========================>..] - ETA: 0s - loss: 0.6490 - accuracy: 0.6086\n",
      "Epoch 00013: saving model to Trained_Model/training_1/cp.ckpt\n",
      "106/106 [==============================] - 1s 10ms/step - loss: 0.6494 - accuracy: 0.6092 - val_loss: 0.6576 - val_accuracy: 0.5878\n",
      "Epoch 14/100\n",
      "105/106 [============================>.] - ETA: 0s - loss: 0.6472 - accuracy: 0.5990\n",
      "Epoch 00014: saving model to Trained_Model/training_1/cp.ckpt\n",
      "106/106 [==============================] - 1s 9ms/step - loss: 0.6472 - accuracy: 0.5988 - val_loss: 0.6487 - val_accuracy: 0.6253\n",
      "Epoch 15/100\n",
      "103/106 [============================>.] - ETA: 0s - loss: 0.6326 - accuracy: 0.6145\n",
      "Epoch 00015: saving model to Trained_Model/training_1/cp.ckpt\n",
      "106/106 [==============================] - 1s 10ms/step - loss: 0.6339 - accuracy: 0.6136 - val_loss: 0.6454 - val_accuracy: 0.6121\n",
      "Epoch 16/100\n",
      "105/106 [============================>.] - ETA: 0s - loss: 0.6256 - accuracy: 0.6287\n",
      "Epoch 00016: saving model to Trained_Model/training_1/cp.ckpt\n",
      "106/106 [==============================] - 1s 9ms/step - loss: 0.6257 - accuracy: 0.6285 - val_loss: 0.6304 - val_accuracy: 0.6211\n",
      "Epoch 17/100\n",
      "104/106 [============================>.] - ETA: 0s - loss: 0.6200 - accuracy: 0.6300\n",
      "Epoch 00017: saving model to Trained_Model/training_1/cp.ckpt\n",
      "106/106 [==============================] - 1s 10ms/step - loss: 0.6210 - accuracy: 0.6291 - val_loss: 0.6137 - val_accuracy: 0.6384\n",
      "Epoch 18/100\n",
      "103/106 [============================>.] - ETA: 0s - loss: 0.6062 - accuracy: 0.6379\n",
      "Epoch 00018: saving model to Trained_Model/training_1/cp.ckpt\n",
      "106/106 [==============================] - 1s 10ms/step - loss: 0.6061 - accuracy: 0.6380 - val_loss: 0.6066 - val_accuracy: 0.6343\n",
      "Epoch 19/100\n",
      "102/106 [===========================>..] - ETA: 0s - loss: 0.5902 - accuracy: 0.6546\n",
      "Epoch 00019: saving model to Trained_Model/training_1/cp.ckpt\n",
      "106/106 [==============================] - 1s 11ms/step - loss: 0.5903 - accuracy: 0.6536 - val_loss: 0.5950 - val_accuracy: 0.6613\n",
      "Epoch 20/100\n",
      "100/106 [===========================>..] - ETA: 0s - loss: 0.5821 - accuracy: 0.6583\n",
      "Epoch 00020: saving model to Trained_Model/training_1/cp.ckpt\n",
      "106/106 [==============================] - 1s 9ms/step - loss: 0.5821 - accuracy: 0.6585 - val_loss: 0.5841 - val_accuracy: 0.6620\n",
      "Epoch 21/100\n",
      "105/106 [============================>.] - ETA: 0s - loss: 0.5675 - accuracy: 0.6789\n",
      "Epoch 00021: saving model to Trained_Model/training_1/cp.ckpt\n",
      "106/106 [==============================] - 1s 10ms/step - loss: 0.5675 - accuracy: 0.6789 - val_loss: 0.5719 - val_accuracy: 0.6711\n",
      "Epoch 22/100\n",
      "102/106 [===========================>..] - ETA: 0s - loss: 0.5652 - accuracy: 0.6746\n",
      "Epoch 00022: saving model to Trained_Model/training_1/cp.ckpt\n",
      "106/106 [==============================] - 1s 10ms/step - loss: 0.5651 - accuracy: 0.6741 - val_loss: 0.5531 - val_accuracy: 0.6842\n",
      "Epoch 23/100\n",
      "104/106 [============================>.] - ETA: 0s - loss: 0.5512 - accuracy: 0.6846\n",
      "Epoch 00023: saving model to Trained_Model/training_1/cp.ckpt\n",
      "106/106 [==============================] - 1s 11ms/step - loss: 0.5511 - accuracy: 0.6846 - val_loss: 0.5690 - val_accuracy: 0.6974\n",
      "Epoch 24/100\n",
      "104/106 [============================>.] - ETA: 0s - loss: 0.5371 - accuracy: 0.6991\n",
      "Epoch 00024: saving model to Trained_Model/training_1/cp.ckpt\n",
      "106/106 [==============================] - 1s 11ms/step - loss: 0.5363 - accuracy: 0.6990 - val_loss: 0.5458 - val_accuracy: 0.7127\n",
      "Epoch 25/100\n",
      "102/106 [===========================>..] - ETA: 0s - loss: 0.5155 - accuracy: 0.7151\n",
      "Epoch 00025: saving model to Trained_Model/training_1/cp.ckpt\n",
      "106/106 [==============================] - 1s 10ms/step - loss: 0.5150 - accuracy: 0.7143 - val_loss: 0.5112 - val_accuracy: 0.7231\n",
      "Epoch 26/100\n",
      "101/106 [===========================>..] - ETA: 0s - loss: 0.5062 - accuracy: 0.7252\n",
      "Epoch 00026: saving model to Trained_Model/training_1/cp.ckpt\n",
      "106/106 [==============================] - 1s 9ms/step - loss: 0.5057 - accuracy: 0.7257 - val_loss: 0.5012 - val_accuracy: 0.7495\n",
      "Epoch 27/100\n",
      "106/106 [==============================] - ETA: 0s - loss: 0.4868 - accuracy: 0.7400\n",
      "Epoch 00027: saving model to Trained_Model/training_1/cp.ckpt\n",
      "106/106 [==============================] - 1s 9ms/step - loss: 0.4868 - accuracy: 0.7400 - val_loss: 0.4793 - val_accuracy: 0.7509\n",
      "Epoch 28/100\n",
      "104/106 [============================>.] - ETA: 0s - loss: 0.4804 - accuracy: 0.7375\n",
      "Epoch 00028: saving model to Trained_Model/training_1/cp.ckpt\n",
      "106/106 [==============================] - 1s 12ms/step - loss: 0.4795 - accuracy: 0.7381 - val_loss: 0.4663 - val_accuracy: 0.7571\n",
      "Epoch 29/100\n",
      "104/106 [============================>.] - ETA: 0s - loss: 0.4606 - accuracy: 0.7575\n",
      "Epoch 00029: saving model to Trained_Model/training_1/cp.ckpt\n",
      "106/106 [==============================] - 1s 11ms/step - loss: 0.4605 - accuracy: 0.7578 - val_loss: 0.4414 - val_accuracy: 0.7668\n",
      "Epoch 30/100\n",
      "104/106 [============================>.] - ETA: 0s - loss: 0.4337 - accuracy: 0.7710\n",
      "Epoch 00030: saving model to Trained_Model/training_1/cp.ckpt\n",
      "106/106 [==============================] - 1s 10ms/step - loss: 0.4334 - accuracy: 0.7711 - val_loss: 0.4111 - val_accuracy: 0.7988\n",
      "Epoch 31/100\n",
      "101/106 [===========================>..] - ETA: 0s - loss: 0.4224 - accuracy: 0.7803\n",
      "Epoch 00031: saving model to Trained_Model/training_1/cp.ckpt\n",
      "106/106 [==============================] - 1s 9ms/step - loss: 0.4219 - accuracy: 0.7804 - val_loss: 0.4070 - val_accuracy: 0.7897\n",
      "Epoch 32/100\n",
      "101/106 [===========================>..] - ETA: 0s - loss: 0.4124 - accuracy: 0.7871\n",
      "Epoch 00032: saving model to Trained_Model/training_1/cp.ckpt\n",
      "106/106 [==============================] - 1s 9ms/step - loss: 0.4134 - accuracy: 0.7864 - val_loss: 0.3995 - val_accuracy: 0.8022\n",
      "Epoch 33/100\n",
      "101/106 [===========================>..] - ETA: 0s - loss: 0.3965 - accuracy: 0.7967\n",
      "Epoch 00033: saving model to Trained_Model/training_1/cp.ckpt\n",
      "106/106 [==============================] - 1s 10ms/step - loss: 0.3963 - accuracy: 0.7956 - val_loss: 0.3732 - val_accuracy: 0.8133\n",
      "Epoch 34/100\n",
      "104/106 [============================>.] - ETA: 0s - loss: 0.3997 - accuracy: 0.7919\n",
      "Epoch 00034: saving model to Trained_Model/training_1/cp.ckpt\n",
      "106/106 [==============================] - 1s 9ms/step - loss: 0.3995 - accuracy: 0.7922 - val_loss: 0.3669 - val_accuracy: 0.8203\n",
      "Epoch 35/100\n",
      "104/106 [============================>.] - ETA: 0s - loss: 0.3581 - accuracy: 0.8182\n",
      "Epoch 00035: saving model to Trained_Model/training_1/cp.ckpt\n",
      "106/106 [==============================] - 1s 10ms/step - loss: 0.3586 - accuracy: 0.8180 - val_loss: 0.3749 - val_accuracy: 0.8050\n",
      "Epoch 36/100\n",
      "103/106 [============================>.] - ETA: 0s - loss: 0.3591 - accuracy: 0.8231\n",
      "Epoch 00036: saving model to Trained_Model/training_1/cp.ckpt\n",
      "106/106 [==============================] - 1s 9ms/step - loss: 0.3592 - accuracy: 0.8228 - val_loss: 0.3456 - val_accuracy: 0.8279\n",
      "Epoch 37/100\n",
      "105/106 [============================>.] - ETA: 0s - loss: 0.3581 - accuracy: 0.8182\n",
      "Epoch 00037: saving model to Trained_Model/training_1/cp.ckpt\n",
      "106/106 [==============================] - 1s 10ms/step - loss: 0.3581 - accuracy: 0.8183 - val_loss: 0.2908 - val_accuracy: 0.8543\n",
      "Epoch 38/100\n",
      "100/106 [===========================>..] - ETA: 0s - loss: 0.3175 - accuracy: 0.8508\n",
      "Epoch 00038: saving model to Trained_Model/training_1/cp.ckpt\n",
      "106/106 [==============================] - 1s 9ms/step - loss: 0.3170 - accuracy: 0.8513 - val_loss: 0.2924 - val_accuracy: 0.8654\n",
      "Epoch 39/100\n",
      "105/106 [============================>.] - ETA: 0s - loss: 0.3353 - accuracy: 0.8388\n",
      "Epoch 00039: saving model to Trained_Model/training_1/cp.ckpt\n",
      "106/106 [==============================] - 1s 9ms/step - loss: 0.3353 - accuracy: 0.8387 - val_loss: 0.2869 - val_accuracy: 0.8640\n",
      "Epoch 40/100\n",
      "104/106 [============================>.] - ETA: 0s - loss: 0.3056 - accuracy: 0.8523\n",
      "Epoch 00040: saving model to Trained_Model/training_1/cp.ckpt\n",
      "106/106 [==============================] - 1s 11ms/step - loss: 0.3051 - accuracy: 0.8530 - val_loss: 0.2653 - val_accuracy: 0.8709\n",
      "Epoch 41/100\n",
      "106/106 [==============================] - ETA: 0s - loss: 0.3050 - accuracy: 0.8554\n",
      "Epoch 00041: saving model to Trained_Model/training_1/cp.ckpt\n",
      "106/106 [==============================] - 1s 10ms/step - loss: 0.3050 - accuracy: 0.8554 - val_loss: 0.2560 - val_accuracy: 0.8855\n",
      "Epoch 42/100\n",
      "102/106 [===========================>..] - ETA: 0s - loss: 0.2941 - accuracy: 0.8623\n",
      "Epoch 00042: saving model to Trained_Model/training_1/cp.ckpt\n",
      "106/106 [==============================] - 1s 11ms/step - loss: 0.2934 - accuracy: 0.8629 - val_loss: 0.2680 - val_accuracy: 0.8869\n",
      "Epoch 43/100\n",
      "104/106 [============================>.] - ETA: 0s - loss: 0.2808 - accuracy: 0.8687\n",
      "Epoch 00043: saving model to Trained_Model/training_1/cp.ckpt\n",
      "106/106 [==============================] - 1s 11ms/step - loss: 0.2809 - accuracy: 0.8687 - val_loss: 0.2164 - val_accuracy: 0.9001\n",
      "Epoch 44/100\n",
      "102/106 [===========================>..] - ETA: 0s - loss: 0.2758 - accuracy: 0.8732\n",
      "Epoch 00044: saving model to Trained_Model/training_1/cp.ckpt\n",
      "106/106 [==============================] - 1s 9ms/step - loss: 0.2748 - accuracy: 0.8732 - val_loss: 0.2126 - val_accuracy: 0.9056\n",
      "Epoch 45/100\n",
      "101/106 [===========================>..] - ETA: 0s - loss: 0.2595 - accuracy: 0.8832\n",
      "Epoch 00045: saving model to Trained_Model/training_1/cp.ckpt\n",
      "106/106 [==============================] - 1s 10ms/step - loss: 0.2607 - accuracy: 0.8824 - val_loss: 0.2033 - val_accuracy: 0.9098\n",
      "Epoch 46/100\n",
      "102/106 [===========================>..] - ETA: 0s - loss: 0.2606 - accuracy: 0.8816\n",
      "Epoch 00046: saving model to Trained_Model/training_1/cp.ckpt\n",
      "106/106 [==============================] - 1s 9ms/step - loss: 0.2608 - accuracy: 0.8809 - val_loss: 0.2003 - val_accuracy: 0.9126\n",
      "Epoch 47/100\n",
      "102/106 [===========================>..] - ETA: 0s - loss: 0.2515 - accuracy: 0.8874\n",
      "Epoch 00047: saving model to Trained_Model/training_1/cp.ckpt\n",
      "106/106 [==============================] - 1s 10ms/step - loss: 0.2511 - accuracy: 0.8875 - val_loss: 0.2500 - val_accuracy: 0.8890\n",
      "Epoch 48/100\n",
      "102/106 [===========================>..] - ETA: 0s - loss: 0.2451 - accuracy: 0.8902\n",
      "Epoch 00048: saving model to Trained_Model/training_1/cp.ckpt\n",
      "106/106 [==============================] - 1s 10ms/step - loss: 0.2452 - accuracy: 0.8890 - val_loss: 0.1885 - val_accuracy: 0.9195\n",
      "Epoch 49/100\n",
      "103/106 [============================>.] - ETA: 0s - loss: 0.2377 - accuracy: 0.8914\n",
      "Epoch 00049: saving model to Trained_Model/training_1/cp.ckpt\n",
      "106/106 [==============================] - 1s 10ms/step - loss: 0.2377 - accuracy: 0.8916 - val_loss: 0.1732 - val_accuracy: 0.9257\n",
      "Epoch 50/100\n",
      "105/106 [============================>.] - ETA: 0s - loss: 0.2389 - accuracy: 0.8954\n",
      "Epoch 00050: saving model to Trained_Model/training_1/cp.ckpt\n",
      "106/106 [==============================] - 1s 10ms/step - loss: 0.2389 - accuracy: 0.8955 - val_loss: 0.1592 - val_accuracy: 0.9264\n",
      "Epoch 51/100\n",
      "105/106 [============================>.] - ETA: 0s - loss: 0.2321 - accuracy: 0.8984\n",
      "Epoch 00051: saving model to Trained_Model/training_1/cp.ckpt\n",
      "106/106 [==============================] - 1s 10ms/step - loss: 0.2324 - accuracy: 0.8979 - val_loss: 0.1682 - val_accuracy: 0.9257\n",
      "Epoch 52/100\n",
      "100/106 [===========================>..] - ETA: 0s - loss: 0.2191 - accuracy: 0.9070\n",
      "Epoch 00052: saving model to Trained_Model/training_1/cp.ckpt\n",
      "106/106 [==============================] - 1s 10ms/step - loss: 0.2192 - accuracy: 0.9068 - val_loss: 0.1716 - val_accuracy: 0.9278\n",
      "Epoch 53/100\n",
      "102/106 [===========================>..] - ETA: 0s - loss: 0.2112 - accuracy: 0.9095\n",
      "Epoch 00053: saving model to Trained_Model/training_1/cp.ckpt\n",
      "106/106 [==============================] - 1s 10ms/step - loss: 0.2127 - accuracy: 0.9086 - val_loss: 0.1454 - val_accuracy: 0.9403\n",
      "Epoch 54/100\n",
      "104/106 [============================>.] - ETA: 0s - loss: 0.2184 - accuracy: 0.9052\n",
      "Epoch 00054: saving model to Trained_Model/training_1/cp.ckpt\n",
      "106/106 [==============================] - 1s 9ms/step - loss: 0.2177 - accuracy: 0.9056 - val_loss: 0.1569 - val_accuracy: 0.9368\n",
      "Epoch 55/100\n",
      "103/106 [============================>.] - ETA: 0s - loss: 0.2105 - accuracy: 0.9073\n",
      "Epoch 00055: saving model to Trained_Model/training_1/cp.ckpt\n",
      "106/106 [==============================] - 1s 10ms/step - loss: 0.2112 - accuracy: 0.9069 - val_loss: 0.1420 - val_accuracy: 0.9473\n",
      "Epoch 56/100\n",
      "100/106 [===========================>..] - ETA: 0s - loss: 0.2016 - accuracy: 0.9119\n",
      "Epoch 00056: saving model to Trained_Model/training_1/cp.ckpt\n",
      "106/106 [==============================] - 1s 10ms/step - loss: 0.1995 - accuracy: 0.9130 - val_loss: 0.1251 - val_accuracy: 0.9514\n",
      "Epoch 57/100\n"
     ]
    },
    {
     "name": "stdout",
     "output_type": "stream",
     "text": [
      "101/106 [===========================>..] - ETA: 0s - loss: 0.1895 - accuracy: 0.9138\n",
      "Epoch 00057: saving model to Trained_Model/training_1/cp.ckpt\n",
      "106/106 [==============================] - 1s 10ms/step - loss: 0.1890 - accuracy: 0.9144 - val_loss: 0.1315 - val_accuracy: 0.9459\n",
      "Epoch 58/100\n",
      "104/106 [============================>.] - ETA: 0s - loss: 0.1868 - accuracy: 0.9214\n",
      "Epoch 00058: saving model to Trained_Model/training_1/cp.ckpt\n",
      "106/106 [==============================] - 1s 10ms/step - loss: 0.1861 - accuracy: 0.9217 - val_loss: 0.1203 - val_accuracy: 0.9563\n",
      "Epoch 59/100\n",
      "105/106 [============================>.] - ETA: 0s - loss: 0.1982 - accuracy: 0.9152\n",
      "Epoch 00059: saving model to Trained_Model/training_1/cp.ckpt\n",
      "106/106 [==============================] - 1s 9ms/step - loss: 0.1981 - accuracy: 0.9151 - val_loss: 0.1235 - val_accuracy: 0.9486\n",
      "Epoch 60/100\n",
      "105/106 [============================>.] - ETA: 0s - loss: 0.1836 - accuracy: 0.9240\n",
      "Epoch 00060: saving model to Trained_Model/training_1/cp.ckpt\n",
      "106/106 [==============================] - 1s 10ms/step - loss: 0.1837 - accuracy: 0.9239 - val_loss: 0.1375 - val_accuracy: 0.9438\n",
      "Epoch 61/100\n",
      "106/106 [==============================] - ETA: 0s - loss: 0.1928 - accuracy: 0.9199\n",
      "Epoch 00061: saving model to Trained_Model/training_1/cp.ckpt\n",
      "106/106 [==============================] - 1s 10ms/step - loss: 0.1928 - accuracy: 0.9199 - val_loss: 0.1102 - val_accuracy: 0.9591\n",
      "Epoch 62/100\n",
      "105/106 [============================>.] - ETA: 0s - loss: 0.1861 - accuracy: 0.9229\n",
      "Epoch 00062: saving model to Trained_Model/training_1/cp.ckpt\n",
      "106/106 [==============================] - 1s 11ms/step - loss: 0.1860 - accuracy: 0.9230 - val_loss: 0.1134 - val_accuracy: 0.9598\n",
      "Epoch 63/100\n",
      "101/106 [===========================>..] - ETA: 0s - loss: 0.1802 - accuracy: 0.9237\n",
      "Epoch 00063: saving model to Trained_Model/training_1/cp.ckpt\n",
      "106/106 [==============================] - 1s 10ms/step - loss: 0.1832 - accuracy: 0.9237 - val_loss: 0.1135 - val_accuracy: 0.9611\n",
      "Epoch 64/100\n",
      "105/106 [============================>.] - ETA: 0s - loss: 0.1755 - accuracy: 0.9271\n",
      "Epoch 00064: saving model to Trained_Model/training_1/cp.ckpt\n",
      "106/106 [==============================] - 1s 9ms/step - loss: 0.1754 - accuracy: 0.9270 - val_loss: 0.1136 - val_accuracy: 0.9493\n",
      "Epoch 65/100\n",
      "106/106 [==============================] - ETA: 0s - loss: 0.1639 - accuracy: 0.9306\n",
      "Epoch 00065: saving model to Trained_Model/training_1/cp.ckpt\n",
      "106/106 [==============================] - 1s 10ms/step - loss: 0.1639 - accuracy: 0.9306 - val_loss: 0.0869 - val_accuracy: 0.9660\n",
      "Epoch 66/100\n",
      "105/106 [============================>.] - ETA: 0s - loss: 0.1748 - accuracy: 0.9275\n",
      "Epoch 00066: saving model to Trained_Model/training_1/cp.ckpt\n",
      "106/106 [==============================] - 1s 10ms/step - loss: 0.1747 - accuracy: 0.9276 - val_loss: 0.1263 - val_accuracy: 0.9459\n",
      "Epoch 67/100\n",
      "102/106 [===========================>..] - ETA: 0s - loss: 0.1704 - accuracy: 0.9312\n",
      "Epoch 00067: saving model to Trained_Model/training_1/cp.ckpt\n",
      "106/106 [==============================] - 1s 10ms/step - loss: 0.1706 - accuracy: 0.9313 - val_loss: 0.1021 - val_accuracy: 0.9556\n",
      "Epoch 68/100\n",
      "100/106 [===========================>..] - ETA: 0s - loss: 0.1711 - accuracy: 0.9306\n",
      "Epoch 00068: saving model to Trained_Model/training_1/cp.ckpt\n",
      "106/106 [==============================] - 1s 10ms/step - loss: 0.1735 - accuracy: 0.9304 - val_loss: 0.0856 - val_accuracy: 0.9771\n",
      "Epoch 69/100\n",
      "101/106 [===========================>..] - ETA: 0s - loss: 0.1527 - accuracy: 0.9338\n",
      "Epoch 00069: saving model to Trained_Model/training_1/cp.ckpt\n",
      "106/106 [==============================] - 1s 10ms/step - loss: 0.1526 - accuracy: 0.9338 - val_loss: 0.0914 - val_accuracy: 0.9611\n",
      "Epoch 70/100\n",
      "104/106 [============================>.] - ETA: 0s - loss: 0.1622 - accuracy: 0.9288\n",
      "Epoch 00070: saving model to Trained_Model/training_1/cp.ckpt\n",
      "106/106 [==============================] - 1s 10ms/step - loss: 0.1617 - accuracy: 0.9291 - val_loss: 0.0897 - val_accuracy: 0.9639\n",
      "Epoch 71/100\n",
      "100/106 [===========================>..] - ETA: 0s - loss: 0.1586 - accuracy: 0.9327\n",
      "Epoch 00071: saving model to Trained_Model/training_1/cp.ckpt\n",
      "106/106 [==============================] - 1s 10ms/step - loss: 0.1598 - accuracy: 0.9318 - val_loss: 0.0891 - val_accuracy: 0.9695\n",
      "Epoch 72/100\n",
      "104/106 [============================>.] - ETA: 0s - loss: 0.1564 - accuracy: 0.9389\n",
      "Epoch 00072: saving model to Trained_Model/training_1/cp.ckpt\n",
      "106/106 [==============================] - 1s 10ms/step - loss: 0.1562 - accuracy: 0.9389 - val_loss: 0.0813 - val_accuracy: 0.9729\n",
      "Epoch 73/100\n",
      "103/106 [============================>.] - ETA: 0s - loss: 0.1518 - accuracy: 0.9364\n",
      "Epoch 00073: saving model to Trained_Model/training_1/cp.ckpt\n",
      "106/106 [==============================] - 1s 10ms/step - loss: 0.1521 - accuracy: 0.9365 - val_loss: 0.0898 - val_accuracy: 0.9611\n",
      "Epoch 74/100\n",
      "100/106 [===========================>..] - ETA: 0s - loss: 0.1632 - accuracy: 0.9327\n",
      "Epoch 00074: saving model to Trained_Model/training_1/cp.ckpt\n",
      "106/106 [==============================] - 1s 10ms/step - loss: 0.1624 - accuracy: 0.9331 - val_loss: 0.0701 - val_accuracy: 0.9743\n",
      "Epoch 75/100\n",
      "100/106 [===========================>..] - ETA: 0s - loss: 0.1487 - accuracy: 0.9394\n",
      "Epoch 00075: saving model to Trained_Model/training_1/cp.ckpt\n",
      "106/106 [==============================] - 1s 11ms/step - loss: 0.1469 - accuracy: 0.9402 - val_loss: 0.0882 - val_accuracy: 0.9667\n",
      "Epoch 76/100\n",
      "102/106 [===========================>..] - ETA: 0s - loss: 0.1505 - accuracy: 0.9372\n",
      "Epoch 00076: saving model to Trained_Model/training_1/cp.ckpt\n",
      "106/106 [==============================] - 1s 10ms/step - loss: 0.1495 - accuracy: 0.9380 - val_loss: 0.0733 - val_accuracy: 0.9709\n",
      "Epoch 77/100\n",
      "105/106 [============================>.] - ETA: 0s - loss: 0.1571 - accuracy: 0.9379\n",
      "Epoch 00077: saving model to Trained_Model/training_1/cp.ckpt\n",
      "106/106 [==============================] - 1s 10ms/step - loss: 0.1575 - accuracy: 0.9379 - val_loss: 0.0838 - val_accuracy: 0.9715\n",
      "Epoch 78/100\n",
      "103/106 [============================>.] - ETA: 0s - loss: 0.1569 - accuracy: 0.9367\n",
      "Epoch 00078: saving model to Trained_Model/training_1/cp.ckpt\n",
      "106/106 [==============================] - 1s 10ms/step - loss: 0.1563 - accuracy: 0.9370 - val_loss: 0.0809 - val_accuracy: 0.9702\n",
      "Epoch 79/100\n",
      "103/106 [============================>.] - ETA: 0s - loss: 0.1420 - accuracy: 0.9421\n",
      "Epoch 00079: saving model to Trained_Model/training_1/cp.ckpt\n",
      "106/106 [==============================] - 1s 10ms/step - loss: 0.1416 - accuracy: 0.9425 - val_loss: 0.0616 - val_accuracy: 0.9764\n",
      "Epoch 80/100\n",
      "102/106 [===========================>..] - ETA: 0s - loss: 0.1312 - accuracy: 0.9490\n",
      "Epoch 00080: saving model to Trained_Model/training_1/cp.ckpt\n",
      "106/106 [==============================] - 1s 11ms/step - loss: 0.1321 - accuracy: 0.9486 - val_loss: 0.0664 - val_accuracy: 0.9813\n",
      "Epoch 81/100\n",
      "103/106 [============================>.] - ETA: 0s - loss: 0.1435 - accuracy: 0.9446\n",
      "Epoch 00081: saving model to Trained_Model/training_1/cp.ckpt\n",
      "106/106 [==============================] - 1s 10ms/step - loss: 0.1438 - accuracy: 0.9447 - val_loss: 0.0745 - val_accuracy: 0.9757\n",
      "Epoch 82/100\n",
      "101/106 [===========================>..] - ETA: 0s - loss: 0.1537 - accuracy: 0.9409\n",
      "Epoch 00082: saving model to Trained_Model/training_1/cp.ckpt\n",
      "106/106 [==============================] - 1s 11ms/step - loss: 0.1540 - accuracy: 0.9410 - val_loss: 0.0730 - val_accuracy: 0.9792\n",
      "Epoch 83/100\n",
      "101/106 [===========================>..] - ETA: 0s - loss: 0.1575 - accuracy: 0.9356\n",
      "Epoch 00083: saving model to Trained_Model/training_1/cp.ckpt\n",
      "106/106 [==============================] - 1s 9ms/step - loss: 0.1547 - accuracy: 0.9373 - val_loss: 0.0728 - val_accuracy: 0.9771\n",
      "Epoch 84/100\n",
      "102/106 [===========================>..] - ETA: 0s - loss: 0.1316 - accuracy: 0.9493\n",
      "Epoch 00084: saving model to Trained_Model/training_1/cp.ckpt\n",
      "106/106 [==============================] - 1s 10ms/step - loss: 0.1315 - accuracy: 0.9498 - val_loss: 0.0556 - val_accuracy: 0.9785\n",
      "Epoch 85/100\n",
      "105/106 [============================>.] - ETA: 0s - loss: 0.1272 - accuracy: 0.9448\n",
      "Epoch 00085: saving model to Trained_Model/training_1/cp.ckpt\n",
      "106/106 [==============================] - 1s 10ms/step - loss: 0.1271 - accuracy: 0.9448 - val_loss: 0.0545 - val_accuracy: 0.9854\n",
      "Epoch 86/100\n",
      "105/106 [============================>.] - ETA: 0s - loss: 0.1191 - accuracy: 0.9528\n",
      "Epoch 00086: saving model to Trained_Model/training_1/cp.ckpt\n",
      "106/106 [==============================] - 1s 10ms/step - loss: 0.1191 - accuracy: 0.9529 - val_loss: 0.0555 - val_accuracy: 0.9806\n",
      "Epoch 87/100\n",
      "102/106 [===========================>..] - ETA: 0s - loss: 0.1310 - accuracy: 0.9479\n",
      "Epoch 00087: saving model to Trained_Model/training_1/cp.ckpt\n",
      "106/106 [==============================] - 1s 10ms/step - loss: 0.1308 - accuracy: 0.9480 - val_loss: 0.0645 - val_accuracy: 0.9757\n",
      "Epoch 88/100\n",
      "103/106 [============================>.] - ETA: 0s - loss: 0.1235 - accuracy: 0.9499\n",
      "Epoch 00088: saving model to Trained_Model/training_1/cp.ckpt\n",
      "106/106 [==============================] - 1s 11ms/step - loss: 0.1243 - accuracy: 0.9495 - val_loss: 0.0599 - val_accuracy: 0.9799\n",
      "Epoch 89/100\n",
      "105/106 [============================>.] - ETA: 0s - loss: 0.1406 - accuracy: 0.9424\n",
      "Epoch 00089: saving model to Trained_Model/training_1/cp.ckpt\n",
      "106/106 [==============================] - 1s 11ms/step - loss: 0.1405 - accuracy: 0.9425 - val_loss: 0.0658 - val_accuracy: 0.9743\n",
      "Epoch 90/100\n",
      "100/106 [===========================>..] - ETA: 0s - loss: 0.1310 - accuracy: 0.9497\n",
      "Epoch 00090: saving model to Trained_Model/training_1/cp.ckpt\n",
      "106/106 [==============================] - 1s 10ms/step - loss: 0.1320 - accuracy: 0.9487 - val_loss: 0.0518 - val_accuracy: 0.9827\n",
      "Epoch 91/100\n",
      "102/106 [===========================>..] - ETA: 0s - loss: 0.1152 - accuracy: 0.9539\n",
      "Epoch 00091: saving model to Trained_Model/training_1/cp.ckpt\n",
      "106/106 [==============================] - 1s 10ms/step - loss: 0.1151 - accuracy: 0.9538 - val_loss: 0.0429 - val_accuracy: 0.9854\n",
      "Epoch 92/100\n",
      "102/106 [===========================>..] - ETA: 0s - loss: 0.1145 - accuracy: 0.9562\n",
      "Epoch 00092: saving model to Trained_Model/training_1/cp.ckpt\n",
      "106/106 [==============================] - 1s 10ms/step - loss: 0.1138 - accuracy: 0.9560 - val_loss: 0.0553 - val_accuracy: 0.9785\n",
      "Epoch 93/100\n",
      "103/106 [============================>.] - ETA: 0s - loss: 0.1091 - accuracy: 0.9551\n",
      "Epoch 00093: saving model to Trained_Model/training_1/cp.ckpt\n",
      "106/106 [==============================] - 1s 10ms/step - loss: 0.1090 - accuracy: 0.9550 - val_loss: 0.0495 - val_accuracy: 0.9833\n",
      "Epoch 94/100\n",
      "104/106 [============================>.] - ETA: 0s - loss: 0.1246 - accuracy: 0.9501\n",
      "Epoch 00094: saving model to Trained_Model/training_1/cp.ckpt\n",
      "106/106 [==============================] - 1s 11ms/step - loss: 0.1244 - accuracy: 0.9502 - val_loss: 0.0465 - val_accuracy: 0.9889\n",
      "Epoch 95/100\n",
      "101/106 [===========================>..] - ETA: 0s - loss: 0.1183 - accuracy: 0.9565\n",
      "Epoch 00095: saving model to Trained_Model/training_1/cp.ckpt\n",
      "106/106 [==============================] - 1s 10ms/step - loss: 0.1192 - accuracy: 0.9563 - val_loss: 0.0429 - val_accuracy: 0.9861\n",
      "Epoch 96/100\n",
      "105/106 [============================>.] - ETA: 0s - loss: 0.1054 - accuracy: 0.9558\n",
      "Epoch 00096: saving model to Trained_Model/training_1/cp.ckpt\n",
      "106/106 [==============================] - 1s 11ms/step - loss: 0.1053 - accuracy: 0.9558 - val_loss: 0.0474 - val_accuracy: 0.9861\n",
      "Epoch 97/100\n",
      "103/106 [============================>.] - ETA: 0s - loss: 0.1048 - accuracy: 0.9569\n",
      "Epoch 00097: saving model to Trained_Model/training_1/cp.ckpt\n",
      "106/106 [==============================] - 1s 10ms/step - loss: 0.1051 - accuracy: 0.9567 - val_loss: 0.0383 - val_accuracy: 0.9896\n",
      "Epoch 98/100\n",
      "100/106 [===========================>..] - ETA: 0s - loss: 0.1178 - accuracy: 0.9513\n",
      "Epoch 00098: saving model to Trained_Model/training_1/cp.ckpt\n",
      "106/106 [==============================] - 1s 10ms/step - loss: 0.1175 - accuracy: 0.9515 - val_loss: 0.0477 - val_accuracy: 0.9861\n",
      "Epoch 99/100\n",
      "104/106 [============================>.] - ETA: 0s - loss: 0.1303 - accuracy: 0.9521\n",
      "Epoch 00099: saving model to Trained_Model/training_1/cp.ckpt\n",
      "106/106 [==============================] - 1s 10ms/step - loss: 0.1307 - accuracy: 0.9515 - val_loss: 0.0837 - val_accuracy: 0.9743\n",
      "Epoch 100/100\n",
      "105/106 [============================>.] - ETA: 0s - loss: 0.1252 - accuracy: 0.9485\n",
      "Epoch 00100: saving model to Trained_Model/training_1/cp.ckpt\n",
      "106/106 [==============================] - 1s 11ms/step - loss: 0.1254 - accuracy: 0.9484 - val_loss: 0.0366 - val_accuracy: 0.9854\n"
     ]
    }
   ],
   "source": [
    "model.compile(\n",
    "    loss=\"binary_crossentropy\", \n",
    "    optimizer=\"adam\",\n",
    "    metrics=[\"accuracy\"])\n",
    "\n",
    "history = model.fit(x_train, \n",
    "                    y_train, \n",
    "                    epochs=100, \n",
    "                    batch_size=64, \n",
    "                    validation_data = (x_val, y_val),\n",
    "                    callbacks = [cp_callback])"
   ]
  },
  {
   "cell_type": "code",
   "execution_count": 16,
   "metadata": {
    "scrolled": true
   },
   "outputs": [
    {
     "name": "stdout",
     "output_type": "stream",
     "text": [
      "46/46 [==============================] - 0s 3ms/step - loss: 0.0383 - accuracy: 0.9840\n",
      "Accuracy:  0.984049916267395\n",
      "F1:  0.9854153455928979\n"
     ]
    }
   ],
   "source": [
    "score, acc = model.evaluate(x_test, y_test)\n",
    "print(\"Accuracy: \",acc)\n",
    "y_pred = np.round(model(x_test))\n",
    "print(\"F1: \", sklearn.metrics.f1_score(y_pred, y_test))"
   ]
  },
  {
   "cell_type": "markdown",
   "metadata": {},
   "source": [
    "#### Simple ANN"
   ]
  },
  {
   "cell_type": "code",
   "execution_count": 21,
   "metadata": {},
   "outputs": [],
   "source": [
    "np.random.seed(42)\n",
    "tf.random.set_seed(42)\n",
    "model2 = keras.models.Sequential([\n",
    "    Dense(units=1, activation='relu', input_shape=(4920,1)),\n",
    "    Reshape((1, 4920)),\n",
    "    Dense(units=104, activation='relu',),\n",
    "    Dropout(0.2),\n",
    "    Dense(units=1, activation='sigmoid'),\n",
    "])"
   ]
  },
  {
   "cell_type": "code",
   "execution_count": 22,
   "metadata": {},
   "outputs": [
    {
     "name": "stdout",
     "output_type": "stream",
     "text": [
      "Epoch 1/5\n",
      "53/53 [==============================] - 1s 18ms/step - loss: 6.9941 - accuracy: 0.5404 - val_loss: 6.7939 - val_accuracy: 0.5545\n",
      "Epoch 2/5\n",
      "53/53 [==============================] - 1s 15ms/step - loss: 6.9978 - accuracy: 0.5411 - val_loss: 6.7939 - val_accuracy: 0.5545\n",
      "Epoch 3/5\n",
      "53/53 [==============================] - 1s 15ms/step - loss: 6.9978 - accuracy: 0.5411 - val_loss: 6.7939 - val_accuracy: 0.5545\n",
      "Epoch 4/5\n",
      "53/53 [==============================] - 1s 15ms/step - loss: 6.9978 - accuracy: 0.5411 - val_loss: 6.7939 - val_accuracy: 0.5545\n",
      "Epoch 5/5\n",
      "53/53 [==============================] - 1s 15ms/step - loss: 6.9978 - accuracy: 0.5411 - val_loss: 6.7939 - val_accuracy: 0.5545\n"
     ]
    }
   ],
   "source": [
    "x_train_n = x_train.reshape((x_train.shape[0], -1))\n",
    "x_val_n = x_val.reshape((x_val.shape[0], -1))\n",
    "x_test_n = x_test.reshape((x_test.shape[0], -1))\n",
    "\n",
    "x_train_ann = x_train_n.reshape((x_train_n.shape[0],x_train_n.shape[1],1))\n",
    "x_val_ann = x_val_n.reshape((x_val_n.shape[0],x_val_n.shape[1],1))\n",
    "x_test_ann = x_test_n.reshape((x_test_n.shape[0],x_test_n.shape[1],1))\n",
    "\n",
    "model2.compile(\n",
    "                loss=\"binary_crossentropy\", \n",
    "                optimizer=\"adam\",\n",
    "                metrics=[\"accuracy\"])\n",
    "\n",
    "history = model2.fit(x_train_ann, \n",
    "                    y_train, \n",
    "                    epochs=5, \n",
    "                    batch_size=128, \n",
    "                    validation_data = (x_val_ann, y_val))\n"
   ]
  },
  {
   "cell_type": "code",
   "execution_count": 23,
   "metadata": {},
   "outputs": [],
   "source": [
    "def simple_ann(xtrain,xval,xtest,ytrain = y_train,yval = y_val,ytest = y_test, model=model2):\n",
    "    print(\"simple ANN\")\n",
    "#     score = model.evaluate(xval, yval)\n",
    "#     print(\"Accuracy: \",score)\n",
    "#     y_pred = np.round(model(x_val))\n",
    "#     print(\"F1: \", sklearn.metrics.f1_score(y_pred, yval))\n",
    "    score, acc = model.evaluate(xtest, ytest)\n",
    "    print(\"Accuracy: \",acc)\n",
    "    y_pred = np.round(model(xtest)).reshape(-1)\n",
    "    print(\"F1: \", sklearn.metrics.f1_score(y_pred, ytest))"
   ]
  },
  {
   "cell_type": "code",
   "execution_count": 24,
   "metadata": {},
   "outputs": [
    {
     "name": "stdout",
     "output_type": "stream",
     "text": [
      "simple ANN\n",
      "46/46 [==============================] - 0s 2ms/step - loss: 6.9372 - accuracy: 0.5451\n",
      "Accuracy:  0.545076310634613\n",
      "F1:  0.7055655296229802\n"
     ]
    }
   ],
   "source": [
    "simple_ann(x_train_ann, x_val_ann, x_test_ann)"
   ]
  },
  {
   "cell_type": "markdown",
   "metadata": {},
   "source": [
    "## Model: 2D CNN + Linear Models"
   ]
  },
  {
   "cell_type": "code",
   "execution_count": 25,
   "metadata": {},
   "outputs": [],
   "source": [
    "cnn = keras.models.Sequential(model.layers[:10])"
   ]
  },
  {
   "cell_type": "code",
   "execution_count": 26,
   "metadata": {},
   "outputs": [
    {
     "name": "stdout",
     "output_type": "stream",
     "text": [
      "Model: \"sequential_3\"\n",
      "_________________________________________________________________\n",
      "Layer (type)                 Output Shape              Param #   \n",
      "=================================================================\n",
      "conv2d (Conv2D)              (None, 60, 1, 40)         3320      \n",
      "_________________________________________________________________\n",
      "reshape (Reshape)            (None, 60, 40, 1)         0         \n",
      "_________________________________________________________________\n",
      "dropout (Dropout)            (None, 60, 40, 1)         0         \n",
      "_________________________________________________________________\n",
      "conv2d_1 (Conv2D)            (None, 60, 1, 8)          328       \n",
      "_________________________________________________________________\n",
      "reshape_1 (Reshape)          (None, 60, 8, 1)          0         \n",
      "_________________________________________________________________\n",
      "conv2d_2 (Conv2D)            (None, 58, 8, 1)          4         \n",
      "_________________________________________________________________\n",
      "max_pooling2d (MaxPooling2D) (None, 29, 8, 1)          0         \n",
      "_________________________________________________________________\n",
      "conv2d_3 (Conv2D)            (None, 27, 8, 1)          4         \n",
      "_________________________________________________________________\n",
      "max_pooling2d_1 (MaxPooling2 (None, 13, 8, 1)          0         \n",
      "_________________________________________________________________\n",
      "flatten (Flatten)            (None, 104)               0         \n",
      "=================================================================\n",
      "Total params: 3,656\n",
      "Trainable params: 3,656\n",
      "Non-trainable params: 0\n",
      "_________________________________________________________________\n"
     ]
    }
   ],
   "source": [
    "cnn.summary()"
   ]
  },
  {
   "cell_type": "code",
   "execution_count": 27,
   "metadata": {
    "scrolled": true
   },
   "outputs": [
    {
     "name": "stdout",
     "output_type": "stream",
     "text": [
      "\n",
      " Gaussian Naive Bayes\n",
      "Accuracy:  0.5707350901525658\n",
      "F1:  0.631328171530673\n"
     ]
    }
   ],
   "source": [
    "def linear_model_gbn(xtrain,xval,xtest,ytrain = y_train,yval = y_val,ytest = y_test):\n",
    "    print(\"\\n Gaussian Naive Bayes\")\n",
    "    reg = GaussianNB()\n",
    "    reg.fit(xtrain, ytrain)\n",
    "#     print(\"Accuracy: \", reg.score(xval, yval))\n",
    "#     y_pred = reg.predict(xval)\n",
    "#     print(\"F1 \", sklearn.metrics.f1_score(y_pred, yval))\n",
    "    print(\"Accuracy: \", reg.score(xtest, ytest))\n",
    "    y_pred = reg.predict(xtest)\n",
    "    print(\"F1: \", sklearn.metrics.f1_score(y_pred, ytest))\n",
    "    \n",
    "linear_model_gbn(cnn(x_train),cnn(x_val),cnn(x_test))"
   ]
  },
  {
   "cell_type": "code",
   "execution_count": 28,
   "metadata": {},
   "outputs": [
    {
     "name": "stdout",
     "output_type": "stream",
     "text": [
      "\n",
      " Logistic Regression\n",
      "Accuracy:  0.5742024965325936\n",
      "F1:  0.6405152224824355\n"
     ]
    },
    {
     "name": "stderr",
     "output_type": "stream",
     "text": [
      "/home/elim/anaconda3/envs/ds/lib/python3.6/site-packages/sklearn/linear_model/_logistic.py:764: ConvergenceWarning: lbfgs failed to converge (status=1):\n",
      "STOP: TOTAL NO. of ITERATIONS REACHED LIMIT.\n",
      "\n",
      "Increase the number of iterations (max_iter) or scale the data as shown in:\n",
      "    https://scikit-learn.org/stable/modules/preprocessing.html\n",
      "Please also refer to the documentation for alternative solver options:\n",
      "    https://scikit-learn.org/stable/modules/linear_model.html#logistic-regression\n",
      "  extra_warning_msg=_LOGISTIC_SOLVER_CONVERGENCE_MSG)\n"
     ]
    }
   ],
   "source": [
    "def linear_model_log(xtrain,xval,xtest,ytrain = y_train,yval = y_val,ytest = y_test):\n",
    "    print(\"\\n Logistic Regression\")\n",
    "    reg = LogisticRegression(max_iter=300, random_state=42)\n",
    "    reg.fit(xtrain, ytrain)\n",
    "#     print(\"Accuracy: \", reg.score(xval, yval))\n",
    "#     y_pred = reg.predict(xval)\n",
    "#     print(\"F1 \", sklearn.metrics.f1_score(y_pred, yval))\n",
    "    print(\"Accuracy: \", reg.score(xtest, ytest))\n",
    "    y_pred = reg.predict(xtest)\n",
    "    print(\"F1: \", sklearn.metrics.f1_score(y_pred, ytest))\n",
    "\n",
    "linear_model_log(cnn(x_train),cnn(x_val),cnn(x_test))"
   ]
  },
  {
   "cell_type": "code",
   "execution_count": 29,
   "metadata": {},
   "outputs": [
    {
     "name": "stdout",
     "output_type": "stream",
     "text": [
      "\n",
      " SGD Classifier\n",
      "Accuracy:  0.48751733703190014\n",
      "F1:  0.3138347260909935\n"
     ]
    }
   ],
   "source": [
    "def linear_model_sdg(xtrain,xval,xtest,ytrain = y_train,yval = y_val,ytest = y_test):\n",
    "    print(\"\\n SGD Classifier\")\n",
    "    reg = SGDClassifier(max_iter=4, tol=None, random_state=42,\n",
    "                   loss=\"perceptron\", eta0=1, learning_rate=\"constant\", penalty=None)\n",
    "    reg.fit(xtrain, ytrain)\n",
    "#     print(\"Accuracy: \", reg.score(xval, yval))\n",
    "#     y_pred = reg.predict(xval)\n",
    "#     print(\"F1 \", sklearn.metrics.f1_score(y_pred, yval))\n",
    "    print(\"Accuracy: \", reg.score(xtest, ytest))\n",
    "    y_pred = reg.predict(xtest)\n",
    "    print(\"F1: \", sklearn.metrics.f1_score(y_pred, ytest))\n",
    "\n",
    "\n",
    "linear_model_sdg(cnn(x_train),cnn(x_val),cnn(x_test))"
   ]
  },
  {
   "cell_type": "markdown",
   "metadata": {},
   "source": [
    "## Model: 2D CNN + Ensemble"
   ]
  },
  {
   "cell_type": "code",
   "execution_count": 30,
   "metadata": {},
   "outputs": [
    {
     "name": "stdout",
     "output_type": "stream",
     "text": [
      "\n",
      " Random Forest\n",
      "Accuracy:  0.7635228848821082\n",
      "F1:  0.8181333333333334\n"
     ]
    }
   ],
   "source": [
    "def en_model_rfc(xtrain,xval,xtest,ytrain = y_train,yval = y_val,ytest = y_test):\n",
    "    print(\"\\n Random Forest\")\n",
    "    reg = RandomForestClassifier(n_estimators=200, max_leaf_nodes=24, \n",
    "                                 n_jobs=-1, random_state=42)\n",
    "    reg.fit(xtrain, ytrain)\n",
    "#     print(\"Accuracy: \", reg.score(xval, yval))\n",
    "#     y_pred = reg.predict(xval)\n",
    "#     print(\"F1 \", sklearn.metrics.f1_score(y_pred, yval))\n",
    "    print(\"Accuracy: \", reg.score(xtest, ytest))\n",
    "    y_pred = reg.predict(xtest)\n",
    "    print(\"F1: \", sklearn.metrics.f1_score(y_pred, ytest))\n",
    "    \n",
    "en_model_rfc(cnn(x_train),cnn(x_val),cnn(x_test))"
   ]
  },
  {
   "cell_type": "code",
   "execution_count": 31,
   "metadata": {},
   "outputs": [
    {
     "name": "stdout",
     "output_type": "stream",
     "text": [
      "\n",
      " Ada Boost\n",
      "Accuracy:  0.955617198335645\n",
      "F1:  0.9596977329974811\n"
     ]
    }
   ],
   "source": [
    "def en_model_ada(xtrain,xval,xtest,ytrain = y_train,yval = y_val,ytest = y_test):\n",
    "    print(\"\\n Ada Boost\")\n",
    "    reg = AdaBoostClassifier(\n",
    "            DecisionTreeClassifier(max_depth=3), n_estimators=100,\n",
    "            algorithm=\"SAMME.R\", learning_rate=0.5, random_state=42)\n",
    "    \n",
    "    reg.fit(xtrain, ytrain)\n",
    "#     print(\"Accuracy: \", reg.score(xval, yval))\n",
    "#     y_pred = reg.predict(xval)\n",
    "#     print(\"F1 \", sklearn.metrics.f1_score(y_pred, yval))\n",
    "    print(\"Accuracy: \", reg.score(xtest, ytest))\n",
    "    y_pred = reg.predict(xtest)\n",
    "    print(\"F1: \", sklearn.metrics.f1_score(y_pred, ytest))\n",
    "    \n",
    "en_model_ada(cnn(x_train),cnn(x_val),cnn(x_test))"
   ]
  },
  {
   "cell_type": "markdown",
   "metadata": {},
   "source": [
    "## Model: PCA + Linear Models"
   ]
  },
  {
   "cell_type": "code",
   "execution_count": 48,
   "metadata": {},
   "outputs": [],
   "source": [
    "x_train_n = x_train.reshape((x_train.shape[0], -1))\n",
    "x_val_n = x_val.reshape((x_val.shape[0], -1))\n",
    "x_test_n = x_test.reshape((x_test.shape[0], -1))\n",
    "features = 104\n",
    "\n",
    "x_train_pca = StandardScaler().fit_transform(x_train_n)\n",
    "x_val_pca = StandardScaler().fit_transform(x_val_n)\n",
    "x_test_pca = StandardScaler().fit_transform(x_test_n)"
   ]
  },
  {
   "cell_type": "code",
   "execution_count": 49,
   "metadata": {},
   "outputs": [],
   "source": [
    "pca = sklearn.decomposition.PCA()\n",
    "pca.fit(x_train_pca)\n",
    "\n",
    "pca_result1 = pca.transform(x_train_pca)\n",
    "pca_result2 = pca.transform(x_val_pca)\n",
    "pca_result3 = pca.transform(x_test_pca)"
   ]
  },
  {
   "cell_type": "code",
   "execution_count": 53,
   "metadata": {
    "scrolled": true
   },
   "outputs": [
    {
     "name": "stdout",
     "output_type": "stream",
     "text": [
      "\n",
      " Gaussian Naive Bayes\n",
      "Accuracy:  0.5804438280166435\n",
      "F1:  0.6068875893437297\n",
      "\n",
      "\n",
      " Logistic Regression\n",
      "Accuracy:  0.6074895977808599\n",
      "F1:  0.677309007981756\n",
      "\n",
      "\n",
      " SGD Classifier\n",
      "Accuracy:  0.5305131761442441\n",
      "F1:  0.5728706624605678\n"
     ]
    }
   ],
   "source": [
    "linear_model_gbn(pca_result1[:,0:features],pca_result2[:,0:features],pca_result3[:,0:features])\n",
    "print()\n",
    "linear_model_log(pca_result1[:,0:features],pca_result2[:,0:features],pca_result3[:,0:features])\n",
    "print()\n",
    "linear_model_sdg(pca_result1[:,0:features],pca_result2[:,0:features],pca_result3[:,0:features])"
   ]
  },
  {
   "cell_type": "code",
   "execution_count": 54,
   "metadata": {},
   "outputs": [
    {
     "name": "stdout",
     "output_type": "stream",
     "text": [
      "\n",
      " Random Forest\n",
      "Accuracy:  0.7337031900138696\n",
      "F1:  0.8028747433264887\n"
     ]
    }
   ],
   "source": [
    "en_model_rfc(pca_result1[:,0:features],pca_result2[:,0:features],pca_result3[:,0:features])"
   ]
  },
  {
   "cell_type": "code",
   "execution_count": 55,
   "metadata": {},
   "outputs": [
    {
     "name": "stdout",
     "output_type": "stream",
     "text": [
      "\n",
      " Ada Boost\n",
      "Accuracy:  0.9563106796116505\n",
      "F1:  0.9602021478205938\n"
     ]
    }
   ],
   "source": [
    "en_model_ada(pca_result1[:,0:features],pca_result2[:,0:features],pca_result3[:,0:features])"
   ]
  },
  {
   "cell_type": "code",
   "execution_count": 56,
   "metadata": {},
   "outputs": [],
   "source": [
    "model3 = keras.models.Sequential([\n",
    "    Dense(units=1, activation='relu', input_shape=(104,1)),\n",
    "    Reshape((1, 104)),\n",
    "    Dense(units=104, activation='relu',),\n",
    "    Dropout(0.2),\n",
    "    Dense(units=1, activation='sigmoid'),\n",
    "])"
   ]
  },
  {
   "cell_type": "code",
   "execution_count": 57,
   "metadata": {},
   "outputs": [
    {
     "name": "stdout",
     "output_type": "stream",
     "text": [
      "Epoch 1/5\n",
      "53/53 [==============================] - 0s 4ms/step - loss: 0.7182 - accuracy: 0.5307 - val_loss: 0.6782 - val_accuracy: 0.5559\n",
      "Epoch 2/5\n",
      "53/53 [==============================] - 0s 2ms/step - loss: 0.6748 - accuracy: 0.5827 - val_loss: 0.6589 - val_accuracy: 0.6037\n",
      "Epoch 3/5\n",
      "53/53 [==============================] - 0s 2ms/step - loss: 0.6563 - accuracy: 0.6081 - val_loss: 0.6449 - val_accuracy: 0.6204\n",
      "Epoch 4/5\n",
      "53/53 [==============================] - 0s 2ms/step - loss: 0.6356 - accuracy: 0.6349 - val_loss: 0.6273 - val_accuracy: 0.6495\n",
      "Epoch 5/5\n",
      "53/53 [==============================] - 0s 3ms/step - loss: 0.6073 - accuracy: 0.6652 - val_loss: 0.6079 - val_accuracy: 0.6738\n"
     ]
    }
   ],
   "source": [
    "xtr= pca_result1[:,0:features].reshape((pca_result1[:,0:features].shape[0],pca_result1[:,0:features].shape[1],1))\n",
    "xv=pca_result2[:,0:features].reshape((pca_result2[:,0:features].shape[0],pca_result2[:,0:features].shape[1],1))\n",
    "xte=pca_result3[:,0:features].reshape((pca_result3[:,0:features].shape[0],pca_result3[:,0:features].shape[1],1))\n",
    "\n",
    "model3.compile(\n",
    "                loss=\"binary_crossentropy\", \n",
    "                optimizer=\"adam\",\n",
    "                metrics=[\"accuracy\"])\n",
    "\n",
    "history = model3.fit(xtr, \n",
    "                    y_train, \n",
    "                    epochs=5, \n",
    "                    batch_size=128, \n",
    "                    validation_data = (xv, y_val))"
   ]
  },
  {
   "cell_type": "code",
   "execution_count": 58,
   "metadata": {},
   "outputs": [
    {
     "name": "stdout",
     "output_type": "stream",
     "text": [
      "\n",
      "simple ANN\n",
      "46/46 [==============================] - 0s 705us/step - loss: 0.6167 - accuracy: 0.6782\n",
      "Accuracy:  0.6782246828079224\n",
      "F1:  0.71\n"
     ]
    }
   ],
   "source": [
    "print()\n",
    "simple_ann(xtr,xv,xte, model=model3)"
   ]
  },
  {
   "cell_type": "markdown",
   "metadata": {},
   "source": [
    "## Model: tSNE + Linear Models"
   ]
  },
  {
   "cell_type": "code",
   "execution_count": 59,
   "metadata": {},
   "outputs": [
    {
     "name": "stdout",
     "output_type": "stream",
     "text": [
      "[t-SNE] Computing 91 nearest neighbors...\n",
      "[t-SNE] Indexed 6727 samples in 0.030s...\n",
      "[t-SNE] Computed neighbors for 6727 samples in 2.994s...\n",
      "[t-SNE] Computed conditional probabilities for sample 1000 / 6727\n",
      "[t-SNE] Computed conditional probabilities for sample 2000 / 6727\n",
      "[t-SNE] Computed conditional probabilities for sample 3000 / 6727\n",
      "[t-SNE] Computed conditional probabilities for sample 4000 / 6727\n",
      "[t-SNE] Computed conditional probabilities for sample 5000 / 6727\n",
      "[t-SNE] Computed conditional probabilities for sample 6000 / 6727\n",
      "[t-SNE] Computed conditional probabilities for sample 6727 / 6727\n",
      "[t-SNE] Mean sigma: 9.412183\n",
      "[t-SNE] KL divergence after 250 iterations with early exaggeration: 84.774216\n",
      "[t-SNE] KL divergence after 1000 iterations: 1.713599\n"
     ]
    }
   ],
   "source": [
    "pca_h = sklearn.decomposition.PCA()\n",
    "pca_h.fit(x_train_pca)\n",
    "\n",
    "tsne = sklearn.manifold.TSNE(n_components=2, verbose=1)\n",
    "p = pca_h.transform(x_train_pca)\n",
    "tsne_result1 = tsne.fit_transform(p[:,:50])"
   ]
  },
  {
   "cell_type": "code",
   "execution_count": 68,
   "metadata": {},
   "outputs": [
    {
     "name": "stdout",
     "output_type": "stream",
     "text": [
      "[t-SNE] Computing 91 nearest neighbors...\n",
      "[t-SNE] Indexed 1441 samples in 0.004s...\n",
      "[t-SNE] Computed neighbors for 1441 samples in 0.167s...\n",
      "[t-SNE] Computed conditional probabilities for sample 1000 / 1441\n",
      "[t-SNE] Computed conditional probabilities for sample 1441 / 1441\n",
      "[t-SNE] Mean sigma: 12.532647\n",
      "[t-SNE] KL divergence after 250 iterations with early exaggeration: 70.809723\n",
      "[t-SNE] KL divergence after 1000 iterations: 1.006127\n",
      "[t-SNE] Computing 91 nearest neighbors...\n",
      "[t-SNE] Indexed 1442 samples in 0.007s...\n",
      "[t-SNE] Computed neighbors for 1442 samples in 0.242s...\n",
      "[t-SNE] Computed conditional probabilities for sample 1000 / 1442\n",
      "[t-SNE] Computed conditional probabilities for sample 1442 / 1442\n",
      "[t-SNE] Mean sigma: 12.833691\n",
      "[t-SNE] KL divergence after 250 iterations with early exaggeration: 71.933464\n",
      "[t-SNE] KL divergence after 1000 iterations: 1.019098\n"
     ]
    }
   ],
   "source": [
    "a = pca_h.transform(x_val_pca)\n",
    "tsne_result2 = tsne.fit_transform(a[:,:50])\n",
    "\n",
    "b = pca_h.transform(x_test_pca)\n",
    "tsne_result3 = tsne.fit_transform(b[:,:50])"
   ]
  },
  {
   "cell_type": "code",
   "execution_count": 69,
   "metadata": {},
   "outputs": [
    {
     "name": "stdout",
     "output_type": "stream",
     "text": [
      "\n",
      " Gaussian Naive Bayes\n",
      "Accuracy:  0.5450762829403606\n",
      "F1:  0.7055655296229802\n",
      "\n",
      "\n",
      " Logistic Regression\n",
      "Accuracy:  0.5450762829403606\n",
      "F1:  0.7055655296229802\n",
      "\n",
      "\n",
      " SGD Classifier\n",
      "Accuracy:  0.49167822468793343\n",
      "F1:  0.5351934051997463\n"
     ]
    }
   ],
   "source": [
    "linear_model_gbn(tsne_result1,tsne_result2,tsne_result3)\n",
    "print()\n",
    "linear_model_log(tsne_result1,tsne_result2,tsne_result3)\n",
    "print()\n",
    "linear_model_sdg(tsne_result1,tsne_result2,tsne_result3)"
   ]
  },
  {
   "cell_type": "code",
   "execution_count": 70,
   "metadata": {
    "scrolled": true
   },
   "outputs": [
    {
     "name": "stdout",
     "output_type": "stream",
     "text": [
      "\n",
      " Random Forest\n",
      "Accuracy:  0.5249653259361997\n",
      "F1:  0.6806526806526807\n"
     ]
    }
   ],
   "source": [
    "en_model_rfc(tsne_result1,tsne_result2,tsne_result3)"
   ]
  },
  {
   "cell_type": "code",
   "execution_count": 71,
   "metadata": {},
   "outputs": [
    {
     "name": "stdout",
     "output_type": "stream",
     "text": [
      "\n",
      " Ada Boost\n",
      "Accuracy:  0.5256588072122053\n",
      "F1:  0.5933412604042807\n"
     ]
    }
   ],
   "source": [
    "en_model_ada(tsne_result1,tsne_result2,tsne_result3)"
   ]
  },
  {
   "cell_type": "code",
   "execution_count": 72,
   "metadata": {},
   "outputs": [],
   "source": [
    "model4 = keras.models.Sequential([\n",
    "    Dense(units=1, activation='relu', input_shape=(2,1)),\n",
    "    Reshape((1, 2)),\n",
    "    Dropout(0.2),\n",
    "    Dense(units=1, activation='sigmoid'),\n",
    "])"
   ]
  },
  {
   "cell_type": "code",
   "execution_count": 73,
   "metadata": {},
   "outputs": [
    {
     "name": "stdout",
     "output_type": "stream",
     "text": [
      "Epoch 1/5\n",
      "53/53 [==============================] - 0s 3ms/step - loss: 4.0073 - accuracy: 0.4907 - val_loss: 3.5046 - val_accuracy: 0.4754\n",
      "Epoch 2/5\n",
      "53/53 [==============================] - 0s 1ms/step - loss: 3.8567 - accuracy: 0.4833 - val_loss: 3.2986 - val_accuracy: 0.4774\n",
      "Epoch 3/5\n",
      "53/53 [==============================] - 0s 1ms/step - loss: 3.5957 - accuracy: 0.4885 - val_loss: 3.1407 - val_accuracy: 0.4698\n",
      "Epoch 4/5\n",
      "53/53 [==============================] - 0s 4ms/step - loss: 3.4385 - accuracy: 0.4871 - val_loss: 3.0147 - val_accuracy: 0.4684\n",
      "Epoch 5/5\n",
      "53/53 [==============================] - 0s 2ms/step - loss: 3.3893 - accuracy: 0.4813 - val_loss: 2.8212 - val_accuracy: 0.4705\n"
     ]
    }
   ],
   "source": [
    "xtr= tsne_result1.reshape((tsne_result1.shape[0],tsne_result1.shape[1], 1))\n",
    "xv= tsne_result2.reshape((tsne_result2.shape[0],tsne_result2.shape[1], 1))\n",
    "xte= tsne_result3.reshape((tsne_result3.shape[0],tsne_result3.shape[1], 1))\n",
    "\n",
    "model4.compile(\n",
    "                loss=\"binary_crossentropy\", \n",
    "                optimizer=\"adam\",\n",
    "                metrics=[\"accuracy\"])\n",
    "\n",
    "history = model4.fit(xtr, \n",
    "                    y_train, \n",
    "                    epochs=5, \n",
    "                    batch_size=128, \n",
    "                    validation_data = (xv, y_val))"
   ]
  },
  {
   "cell_type": "code",
   "execution_count": 74,
   "metadata": {},
   "outputs": [
    {
     "name": "stdout",
     "output_type": "stream",
     "text": [
      "simple ANN\n",
      "46/46 [==============================] - 0s 625us/step - loss: 2.9197 - accuracy: 0.4695\n",
      "Accuracy:  0.4694868326187134\n",
      "F1:  0.3224092116917626\n"
     ]
    }
   ],
   "source": [
    "simple_ann(xtr,xv,xte, model=model4)"
   ]
  },
  {
   "cell_type": "markdown",
   "metadata": {},
   "source": [
    "## Model: No Dimension Reduction + Linear Models"
   ]
  },
  {
   "cell_type": "code",
   "execution_count": 75,
   "metadata": {},
   "outputs": [],
   "source": [
    "x_train_n = x_train.reshape((x_train.shape[0], -1))\n",
    "x_val_n = x_val.reshape((x_val.shape[0], -1))\n",
    "x_test_n = x_test.reshape((x_test.shape[0], -1))"
   ]
  },
  {
   "cell_type": "code",
   "execution_count": 76,
   "metadata": {},
   "outputs": [
    {
     "name": "stdout",
     "output_type": "stream",
     "text": [
      "\n",
      " Gaussian Naive Bayes\n",
      "Accuracy:  0.6393897364771152\n",
      "F1:  0.6353436185133239\n",
      "\n",
      " Logistic Regression\n"
     ]
    },
    {
     "name": "stderr",
     "output_type": "stream",
     "text": [
      "/home/elim/anaconda3/envs/ds/lib/python3.6/site-packages/sklearn/linear_model/_logistic.py:764: ConvergenceWarning: lbfgs failed to converge (status=1):\n",
      "STOP: TOTAL NO. of ITERATIONS REACHED LIMIT.\n",
      "\n",
      "Increase the number of iterations (max_iter) or scale the data as shown in:\n",
      "    https://scikit-learn.org/stable/modules/preprocessing.html\n",
      "Please also refer to the documentation for alternative solver options:\n",
      "    https://scikit-learn.org/stable/modules/linear_model.html#logistic-regression\n",
      "  extra_warning_msg=_LOGISTIC_SOLVER_CONVERGENCE_MSG)\n"
     ]
    },
    {
     "name": "stdout",
     "output_type": "stream",
     "text": [
      "Accuracy:  0.8793342579750347\n",
      "F1:  0.8900126422250316\n",
      "\n",
      " SGD Classifier\n",
      "Accuracy:  0.4549237170596394\n",
      "F1:  0.0\n"
     ]
    }
   ],
   "source": [
    "linear_model_gbn(x_train_n,x_val_n,x_test_n)\n",
    "linear_model_log(x_train_n,x_val_n,x_test_n)\n",
    "linear_model_sdg(x_train_n,x_val_n,x_test_n)"
   ]
  },
  {
   "cell_type": "markdown",
   "metadata": {},
   "source": [
    "## Model: No Dimension Reduction + Ensemble"
   ]
  },
  {
   "cell_type": "code",
   "execution_count": 77,
   "metadata": {},
   "outputs": [
    {
     "name": "stdout",
     "output_type": "stream",
     "text": [
      "\n",
      " Random Forest\n",
      "Accuracy:  0.8918169209431346\n",
      "F1:  0.9097222222222222\n"
     ]
    }
   ],
   "source": [
    "en_model_rfc(x_train_n,x_val_n,x_test_n)"
   ]
  },
  {
   "cell_type": "code",
   "execution_count": 78,
   "metadata": {},
   "outputs": [
    {
     "name": "stdout",
     "output_type": "stream",
     "text": [
      "\n",
      " Ada Boost\n",
      "Accuracy:  0.9965325936199723\n",
      "F1:  0.9968294229549778\n"
     ]
    }
   ],
   "source": [
    "en_model_ada(x_train_n,x_val_n,x_test_n)"
   ]
  },
  {
   "cell_type": "markdown",
   "metadata": {},
   "source": [
    "## Visualisations"
   ]
  },
  {
   "cell_type": "code",
   "execution_count": 96,
   "metadata": {},
   "outputs": [
    {
     "data": {
      "text/plain": [
       "<matplotlib.legend.Legend at 0x7f9b2be427f0>"
      ]
     },
     "execution_count": 96,
     "metadata": {},
     "output_type": "execute_result"
    },
    {
     "data": {
      "image/png": "[encoded data removed]",
      "text/plain": [
       "<Figure size 720x720 with 1 Axes>"
      ]
     },
     "metadata": {
      "needs_background": "light"
     },
     "output_type": "display_data"
    }
   ],
   "source": [
    "pca1,pca2 = pca_result1[:,0], pca_result1[:,1]\n",
    "\n",
    "fig,ax = plt.subplots(figsize=(10,10))\n",
    "for lvl in range(2):\n",
    "    ln = [\"Price Decrease/ Remains the same\", \"Price Increase\"]\n",
    "    i = (y_train == lvl)\n",
    "    ax.scatter(pca1[i], pca2[i], label=ln[lvl])\n",
    "\n",
    "ax.set_title(\"PCA of the 1st and 2nd Component\")\n",
    "ax.set_xlabel(\"1st Component\")\n",
    "ax.set_ylabel(\"2nd Component\")\n",
    "ax.legend(loc='upper left', bbox_to_anchor=(1.1, 1))"
   ]
  },
  {
   "cell_type": "code",
   "execution_count": 97,
   "metadata": {},
   "outputs": [
    {
     "data": {
      "text/plain": [
       "<matplotlib.legend.Legend at 0x7f9aa00f20b8>"
      ]
     },
     "execution_count": 97,
     "metadata": {},
     "output_type": "execute_result"
    },
    {
     "data": {
      "image/png": "[encoded data removed]",
      "text/plain": [
       "<Figure size 720x720 with 1 Axes>"
      ]
     },
     "metadata": {
      "needs_background": "light"
     },
     "output_type": "display_data"
    }
   ],
   "source": [
    "pca1,pca2 = tsne_result1[:,0], tsne_result1[:,1]\n",
    "\n",
    "fig,ax = plt.subplots(figsize=(10,10))\n",
    "for lvl in range(2):\n",
    "    ln = [\"Price Decrease/ Remains the same\", \"Price Increase\"]\n",
    "    i = (y_train == lvl)\n",
    "    ax.scatter(pca1[i], pca2[i], label=ln[lvl])\n",
    "\n",
    "ax.set_aspect('equal')\n",
    "ax.set_title(\"t-SNE of the 1st and 2nd Component\")\n",
    "ax.set_xlabel(\"1st Component\")\n",
    "ax.set_ylabel(\"2nd Component\")\n",
    "ax.legend(loc='upper left', bbox_to_anchor=(1.1, 1))"
   ]
  },
  {
   "cell_type": "markdown",
   "metadata": {},
   "source": [
    "## Correlations"
   ]
  },
  {
   "cell_type": "code",
   "execution_count": 42,
   "metadata": {},
   "outputs": [
    {
     "data": {
      "text/html": [
       "<div>\n",
       "<style scoped>\n",
       "    .dataframe tbody tr th:only-of-type {\n",
       "        vertical-align: middle;\n",
       "    }\n",
       "\n",
       "    .dataframe tbody tr th {\n",
       "        vertical-align: top;\n",
       "    }\n",
       "\n",
       "    .dataframe thead th {\n",
       "        text-align: right;\n",
       "    }\n",
       "</style>\n",
       "<table border=\"1\" class=\"dataframe\">\n",
       "  <thead>\n",
       "    <tr style=\"text-align: right;\">\n",
       "      <th></th>\n",
       "      <th>Close</th>\n",
       "      <th>Volume</th>\n",
       "      <th>mom</th>\n",
       "      <th>mom1</th>\n",
       "      <th>mom2</th>\n",
       "      <th>mom3</th>\n",
       "      <th>ROC_5</th>\n",
       "      <th>ROC_10</th>\n",
       "      <th>ROC_15</th>\n",
       "      <th>ROC_20</th>\n",
       "      <th>...</th>\n",
       "      <th>NZD</th>\n",
       "      <th>silver-F</th>\n",
       "      <th>RUSSELL-F</th>\n",
       "      <th>S&amp;P-F</th>\n",
       "      <th>CHF</th>\n",
       "      <th>Dollar index-F</th>\n",
       "      <th>Dollar index</th>\n",
       "      <th>wheat-F</th>\n",
       "      <th>XAG</th>\n",
       "      <th>XAU</th>\n",
       "    </tr>\n",
       "  </thead>\n",
       "  <tbody>\n",
       "    <tr>\n",
       "      <th>Close</th>\n",
       "      <td>1.000000</td>\n",
       "      <td>-0.026512</td>\n",
       "      <td>0.014905</td>\n",
       "      <td>0.014140</td>\n",
       "      <td>0.014884</td>\n",
       "      <td>0.013074</td>\n",
       "      <td>0.036268</td>\n",
       "      <td>0.052317</td>\n",
       "      <td>0.061095</td>\n",
       "      <td>0.064272</td>\n",
       "      <td>...</td>\n",
       "      <td>-0.017463</td>\n",
       "      <td>-0.007010</td>\n",
       "      <td>0.010069</td>\n",
       "      <td>0.014651</td>\n",
       "      <td>0.010654</td>\n",
       "      <td>-0.000803</td>\n",
       "      <td>-0.000693</td>\n",
       "      <td>-0.012812</td>\n",
       "      <td>-0.019746</td>\n",
       "      <td>-0.021366</td>\n",
       "    </tr>\n",
       "    <tr>\n",
       "      <th>Volume</th>\n",
       "      <td>-0.026512</td>\n",
       "      <td>1.000000</td>\n",
       "      <td>-0.076513</td>\n",
       "      <td>-0.004393</td>\n",
       "      <td>0.014723</td>\n",
       "      <td>-0.003473</td>\n",
       "      <td>-0.048215</td>\n",
       "      <td>-0.019406</td>\n",
       "      <td>-0.041006</td>\n",
       "      <td>-0.025288</td>\n",
       "      <td>...</td>\n",
       "      <td>0.006742</td>\n",
       "      <td>0.027267</td>\n",
       "      <td>-0.061320</td>\n",
       "      <td>-0.045736</td>\n",
       "      <td>-0.005965</td>\n",
       "      <td>0.001085</td>\n",
       "      <td>0.003683</td>\n",
       "      <td>0.019767</td>\n",
       "      <td>0.028697</td>\n",
       "      <td>0.036394</td>\n",
       "    </tr>\n",
       "    <tr>\n",
       "      <th>mom</th>\n",
       "      <td>0.014905</td>\n",
       "      <td>-0.076513</td>\n",
       "      <td>1.000000</td>\n",
       "      <td>-0.051408</td>\n",
       "      <td>0.023095</td>\n",
       "      <td>-0.064585</td>\n",
       "      <td>0.422857</td>\n",
       "      <td>0.279707</td>\n",
       "      <td>0.239659</td>\n",
       "      <td>0.195592</td>\n",
       "      <td>...</td>\n",
       "      <td>0.465489</td>\n",
       "      <td>0.173100</td>\n",
       "      <td>0.886430</td>\n",
       "      <td>0.975561</td>\n",
       "      <td>-0.028157</td>\n",
       "      <td>-0.231155</td>\n",
       "      <td>-0.232157</td>\n",
       "      <td>0.139613</td>\n",
       "      <td>0.203788</td>\n",
       "      <td>0.007269</td>\n",
       "    </tr>\n",
       "    <tr>\n",
       "      <th>mom1</th>\n",
       "      <td>0.014140</td>\n",
       "      <td>-0.004393</td>\n",
       "      <td>-0.051408</td>\n",
       "      <td>1.000000</td>\n",
       "      <td>-0.051511</td>\n",
       "      <td>0.023115</td>\n",
       "      <td>0.403718</td>\n",
       "      <td>0.273996</td>\n",
       "      <td>0.237265</td>\n",
       "      <td>0.192534</td>\n",
       "      <td>...</td>\n",
       "      <td>-0.059843</td>\n",
       "      <td>0.073695</td>\n",
       "      <td>-0.044749</td>\n",
       "      <td>-0.044308</td>\n",
       "      <td>0.043212</td>\n",
       "      <td>0.032858</td>\n",
       "      <td>0.047704</td>\n",
       "      <td>-0.010123</td>\n",
       "      <td>0.045613</td>\n",
       "      <td>0.012436</td>\n",
       "    </tr>\n",
       "    <tr>\n",
       "      <th>mom2</th>\n",
       "      <td>0.014884</td>\n",
       "      <td>0.014723</td>\n",
       "      <td>0.023095</td>\n",
       "      <td>-0.051511</td>\n",
       "      <td>1.000000</td>\n",
       "      <td>-0.051504</td>\n",
       "      <td>0.445535</td>\n",
       "      <td>0.283877</td>\n",
       "      <td>0.242344</td>\n",
       "      <td>0.206585</td>\n",
       "      <td>...</td>\n",
       "      <td>0.008653</td>\n",
       "      <td>0.018308</td>\n",
       "      <td>0.008665</td>\n",
       "      <td>0.019147</td>\n",
       "      <td>0.007930</td>\n",
       "      <td>0.001906</td>\n",
       "      <td>-0.015363</td>\n",
       "      <td>-0.004272</td>\n",
       "      <td>0.011694</td>\n",
       "      <td>0.005715</td>\n",
       "    </tr>\n",
       "    <tr>\n",
       "      <th>...</th>\n",
       "      <td>...</td>\n",
       "      <td>...</td>\n",
       "      <td>...</td>\n",
       "      <td>...</td>\n",
       "      <td>...</td>\n",
       "      <td>...</td>\n",
       "      <td>...</td>\n",
       "      <td>...</td>\n",
       "      <td>...</td>\n",
       "      <td>...</td>\n",
       "      <td>...</td>\n",
       "      <td>...</td>\n",
       "      <td>...</td>\n",
       "      <td>...</td>\n",
       "      <td>...</td>\n",
       "      <td>...</td>\n",
       "      <td>...</td>\n",
       "      <td>...</td>\n",
       "      <td>...</td>\n",
       "      <td>...</td>\n",
       "      <td>...</td>\n",
       "    </tr>\n",
       "    <tr>\n",
       "      <th>Dollar index-F</th>\n",
       "      <td>-0.000803</td>\n",
       "      <td>0.001085</td>\n",
       "      <td>-0.231155</td>\n",
       "      <td>0.032858</td>\n",
       "      <td>0.001906</td>\n",
       "      <td>0.029169</td>\n",
       "      <td>-0.086384</td>\n",
       "      <td>-0.064194</td>\n",
       "      <td>-0.048155</td>\n",
       "      <td>-0.042955</td>\n",
       "      <td>...</td>\n",
       "      <td>-0.543677</td>\n",
       "      <td>-0.334651</td>\n",
       "      <td>-0.198201</td>\n",
       "      <td>-0.226114</td>\n",
       "      <td>0.596993</td>\n",
       "      <td>1.000000</td>\n",
       "      <td>0.953878</td>\n",
       "      <td>-0.159015</td>\n",
       "      <td>-0.372699</td>\n",
       "      <td>-0.347124</td>\n",
       "    </tr>\n",
       "    <tr>\n",
       "      <th>Dollar index</th>\n",
       "      <td>-0.000693</td>\n",
       "      <td>0.003683</td>\n",
       "      <td>-0.232157</td>\n",
       "      <td>0.047704</td>\n",
       "      <td>-0.015363</td>\n",
       "      <td>0.034329</td>\n",
       "      <td>-0.082852</td>\n",
       "      <td>-0.065921</td>\n",
       "      <td>-0.048691</td>\n",
       "      <td>-0.044498</td>\n",
       "      <td>...</td>\n",
       "      <td>-0.528321</td>\n",
       "      <td>-0.325971</td>\n",
       "      <td>-0.199722</td>\n",
       "      <td>-0.226215</td>\n",
       "      <td>0.572503</td>\n",
       "      <td>0.953878</td>\n",
       "      <td>1.000000</td>\n",
       "      <td>-0.156925</td>\n",
       "      <td>-0.359829</td>\n",
       "      <td>-0.334305</td>\n",
       "    </tr>\n",
       "    <tr>\n",
       "      <th>wheat-F</th>\n",
       "      <td>-0.012812</td>\n",
       "      <td>0.019767</td>\n",
       "      <td>0.139613</td>\n",
       "      <td>-0.010123</td>\n",
       "      <td>-0.004272</td>\n",
       "      <td>-0.024196</td>\n",
       "      <td>0.058995</td>\n",
       "      <td>0.030399</td>\n",
       "      <td>0.014995</td>\n",
       "      <td>0.023546</td>\n",
       "      <td>...</td>\n",
       "      <td>0.155732</td>\n",
       "      <td>0.148058</td>\n",
       "      <td>0.135562</td>\n",
       "      <td>0.133290</td>\n",
       "      <td>-0.100279</td>\n",
       "      <td>-0.159015</td>\n",
       "      <td>-0.156925</td>\n",
       "      <td>1.000000</td>\n",
       "      <td>0.160597</td>\n",
       "      <td>0.109407</td>\n",
       "    </tr>\n",
       "    <tr>\n",
       "      <th>XAG</th>\n",
       "      <td>-0.019746</td>\n",
       "      <td>0.028697</td>\n",
       "      <td>0.203788</td>\n",
       "      <td>0.045613</td>\n",
       "      <td>0.011694</td>\n",
       "      <td>-0.021258</td>\n",
       "      <td>0.096985</td>\n",
       "      <td>0.042112</td>\n",
       "      <td>0.051754</td>\n",
       "      <td>0.049556</td>\n",
       "      <td>...</td>\n",
       "      <td>0.371554</td>\n",
       "      <td>0.867831</td>\n",
       "      <td>0.201130</td>\n",
       "      <td>0.194387</td>\n",
       "      <td>-0.264550</td>\n",
       "      <td>-0.372699</td>\n",
       "      <td>-0.359829</td>\n",
       "      <td>0.160597</td>\n",
       "      <td>1.000000</td>\n",
       "      <td>0.792705</td>\n",
       "    </tr>\n",
       "    <tr>\n",
       "      <th>XAU</th>\n",
       "      <td>-0.021366</td>\n",
       "      <td>0.036394</td>\n",
       "      <td>0.007269</td>\n",
       "      <td>0.012436</td>\n",
       "      <td>0.005715</td>\n",
       "      <td>-0.006242</td>\n",
       "      <td>-0.001497</td>\n",
       "      <td>-0.032030</td>\n",
       "      <td>-0.018250</td>\n",
       "      <td>-0.014553</td>\n",
       "      <td>...</td>\n",
       "      <td>0.310317</td>\n",
       "      <td>0.684038</td>\n",
       "      <td>0.014880</td>\n",
       "      <td>0.005654</td>\n",
       "      <td>-0.321169</td>\n",
       "      <td>-0.347124</td>\n",
       "      <td>-0.334305</td>\n",
       "      <td>0.109407</td>\n",
       "      <td>0.792705</td>\n",
       "      <td>1.000000</td>\n",
       "    </tr>\n",
       "  </tbody>\n",
       "</table>\n",
       "<p>82 rows × 82 columns</p>\n",
       "</div>"
      ],
      "text/plain": [
       "                   Close    Volume       mom      mom1      mom2      mom3  \\\n",
       "Close           1.000000 -0.026512  0.014905  0.014140  0.014884  0.013074   \n",
       "Volume         -0.026512  1.000000 -0.076513 -0.004393  0.014723 -0.003473   \n",
       "mom             0.014905 -0.076513  1.000000 -0.051408  0.023095 -0.064585   \n",
       "mom1            0.014140 -0.004393 -0.051408  1.000000 -0.051511  0.023115   \n",
       "mom2            0.014884  0.014723  0.023095 -0.051511  1.000000 -0.051504   \n",
       "...                  ...       ...       ...       ...       ...       ...   \n",
       "Dollar index-F -0.000803  0.001085 -0.231155  0.032858  0.001906  0.029169   \n",
       "Dollar index   -0.000693  0.003683 -0.232157  0.047704 -0.015363  0.034329   \n",
       "wheat-F        -0.012812  0.019767  0.139613 -0.010123 -0.004272 -0.024196   \n",
       "XAG            -0.019746  0.028697  0.203788  0.045613  0.011694 -0.021258   \n",
       "XAU            -0.021366  0.036394  0.007269  0.012436  0.005715 -0.006242   \n",
       "\n",
       "                   ROC_5    ROC_10    ROC_15    ROC_20  ...       NZD  \\\n",
       "Close           0.036268  0.052317  0.061095  0.064272  ... -0.017463   \n",
       "Volume         -0.048215 -0.019406 -0.041006 -0.025288  ...  0.006742   \n",
       "mom             0.422857  0.279707  0.239659  0.195592  ...  0.465489   \n",
       "mom1            0.403718  0.273996  0.237265  0.192534  ... -0.059843   \n",
       "mom2            0.445535  0.283877  0.242344  0.206585  ...  0.008653   \n",
       "...                  ...       ...       ...       ...  ...       ...   \n",
       "Dollar index-F -0.086384 -0.064194 -0.048155 -0.042955  ... -0.543677   \n",
       "Dollar index   -0.082852 -0.065921 -0.048691 -0.044498  ... -0.528321   \n",
       "wheat-F         0.058995  0.030399  0.014995  0.023546  ...  0.155732   \n",
       "XAG             0.096985  0.042112  0.051754  0.049556  ...  0.371554   \n",
       "XAU            -0.001497 -0.032030 -0.018250 -0.014553  ...  0.310317   \n",
       "\n",
       "                silver-F  RUSSELL-F     S&P-F       CHF  Dollar index-F  \\\n",
       "Close          -0.007010   0.010069  0.014651  0.010654       -0.000803   \n",
       "Volume          0.027267  -0.061320 -0.045736 -0.005965        0.001085   \n",
       "mom             0.173100   0.886430  0.975561 -0.028157       -0.231155   \n",
       "mom1            0.073695  -0.044749 -0.044308  0.043212        0.032858   \n",
       "mom2            0.018308   0.008665  0.019147  0.007930        0.001906   \n",
       "...                  ...        ...       ...       ...             ...   \n",
       "Dollar index-F -0.334651  -0.198201 -0.226114  0.596993        1.000000   \n",
       "Dollar index   -0.325971  -0.199722 -0.226215  0.572503        0.953878   \n",
       "wheat-F         0.148058   0.135562  0.133290 -0.100279       -0.159015   \n",
       "XAG             0.867831   0.201130  0.194387 -0.264550       -0.372699   \n",
       "XAU             0.684038   0.014880  0.005654 -0.321169       -0.347124   \n",
       "\n",
       "                Dollar index   wheat-F       XAG       XAU  \n",
       "Close              -0.000693 -0.012812 -0.019746 -0.021366  \n",
       "Volume              0.003683  0.019767  0.028697  0.036394  \n",
       "mom                -0.232157  0.139613  0.203788  0.007269  \n",
       "mom1                0.047704 -0.010123  0.045613  0.012436  \n",
       "mom2               -0.015363 -0.004272  0.011694  0.005715  \n",
       "...                      ...       ...       ...       ...  \n",
       "Dollar index-F      0.953878 -0.159015 -0.372699 -0.347124  \n",
       "Dollar index        1.000000 -0.156925 -0.359829 -0.334305  \n",
       "wheat-F            -0.156925  1.000000  0.160597  0.109407  \n",
       "XAG                -0.359829  0.160597  1.000000  0.792705  \n",
       "XAU                -0.334305  0.109407  0.792705  1.000000  \n",
       "\n",
       "[82 rows x 82 columns]"
      ]
     },
     "execution_count": 42,
     "metadata": {},
     "output_type": "execute_result"
    }
   ],
   "source": [
    "markets[4].corr()"
   ]
  },
  {
   "cell_type": "code",
   "execution_count": null,
   "metadata": {},
   "outputs": [],
   "source": [
    "corr = markets[4].corr()\n",
    "corr[\"Close\"].sort_values(ascending=False)[:30]"
   ]
  },
  {
   "cell_type": "code",
   "execution_count": null,
   "metadata": {},
   "outputs": [],
   "source": [
    "len(markets[4].columns)"
   ]
  },
  {
   "cell_type": "code",
   "execution_count": null,
   "metadata": {},
   "outputs": [],
   "source": []
  }
 ],
 "metadata": {
  "kernelspec": {
   "display_name": "Python 3",
   "language": "python",
   "name": "python3"
  },
  "language_info": {
   "codemirror_mode": {
    "name": "ipython",
    "version": 3
   },
   "file_extension": ".py",
   "mimetype": "text/x-python",
   "name": "python",
   "nbconvert_exporter": "python",
   "pygments_lexer": "ipython3",
   "version": "3.6.10"
  }
 },
 "nbformat": 4,
 "nbformat_minor": 4
}
